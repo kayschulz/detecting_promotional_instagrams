{
 "cells": [
  {
   "cell_type": "code",
   "execution_count": 60,
   "metadata": {},
   "outputs": [],
   "source": [
    "import numpy as np\n",
    "import pickle\n",
    "from scrape import add_promo_key"
   ]
  },
  {
   "cell_type": "code",
   "execution_count": 3,
   "metadata": {},
   "outputs": [
    {
     "data": {
      "text/plain": [
       "22"
      ]
     },
     "execution_count": 3,
     "metadata": {},
     "output_type": "execute_result"
    }
   ],
   "source": [
    "# 1 if comment is an ad, 0 if not an ad \n",
    "chrissyteigen = np.array([0,0,0,0,0,0,0,1,0,0,0,1,0,0,0,0,0,0,0,1,0,0])"
   ]
  },
  {
   "cell_type": "code",
   "execution_count": 5,
   "metadata": {},
   "outputs": [],
   "source": [
    "teigen = pickle.load(open('data/raw_data/teigen.pkl', 'rb'))\n",
    "teigen_comp = add_promo_key(teigen, chrissyteigen)"
   ]
  },
  {
   "cell_type": "code",
   "execution_count": 28,
   "metadata": {},
   "outputs": [],
   "source": [
    "posts = teigen_comp"
   ]
  },
  {
   "cell_type": "code",
   "execution_count": null,
   "metadata": {},
   "outputs": [],
   "source": [
    "nike_p = pickle.load(open('data/raw_data/nike.pkl', 'rb'))\n",
    "nike = np.array([1,1,1,1,1,1,1,1,1,1,1,1,1,1,1,1,1,1,1,1,1,1,1,1,1])\n",
    "nike_comp = add_promo_key(nike_p, nike)\n",
    "posts.extend(nike_comp)"
   ]
  },
  {
   "cell_type": "code",
   "execution_count": 32,
   "metadata": {},
   "outputs": [],
   "source": [
    "buttigieg_p = pickle.load(open('data/raw_data/buttigieg.pkl', 'rb'))\n",
    "pete_buttigieg = np.array([0,0,1,0,0,1,1,0,0,1,0,1,0,0,1,0,0,0,0,1,1,0,0,0,1])\n",
    "buttigieg_comp = add_promo_key(buttigieg_p, pete_buttigieg)\n",
    "posts.extend(buttigieg_comp)"
   ]
  },
  {
   "cell_type": "code",
   "execution_count": 33,
   "metadata": {},
   "outputs": [],
   "source": [
    "kourtkardash_p = pickle.load(open('data/raw_data/kourtkardash.pkl', 'rb'))\n",
    "kourtneykardash = np.array([0,0,1,0,0,1,1,1,0,0,1,0,1,1,1,0,1,1,0,1,1,0,0])\n",
    "kourtkardash_comp = add_promo_key(kourtkardash_p, kourtneykardash)\n",
    "posts.extend(kourtkardash_comp)"
   ]
  },
  {
   "cell_type": "code",
   "execution_count": 34,
   "metadata": {},
   "outputs": [],
   "source": [
    "linleelovesfashion = np.array([0,0,0,0,0,0,0,0,0,0,1,0,0,0,0,0,0,0,0,0,0,0,0,0,0])\n",
    "lin_p = pickle.load(open('data/raw_data/lin.pkl', 'rb'))\n",
    "lin_comp = add_promo_key(lin_p, linleelovesfashion)\n",
    "posts.extend(lin_comp)"
   ]
  },
  {
   "cell_type": "code",
   "execution_count": 35,
   "metadata": {},
   "outputs": [],
   "source": [
    "beto_orourke = np.array([0,0,0,0,0,1,0,1,0,0,0,1,1,1,0,0,0,0,0,0,0,0,0,0,0])\n",
    "beto_p = pickle.load(open('data/raw_data/beto.pkl', 'rb'))\n",
    "beto_comp = add_promo_key(beto_p, beto_orourke)\n",
    "posts.extend(beto_comp)"
   ]
  },
  {
   "cell_type": "code",
   "execution_count": 36,
   "metadata": {},
   "outputs": [],
   "source": [
    "abby_corkins = np.array([0,0,1,1,1,0,1,0,1,1,1,1,1,1,0,1,0,1,0,1,1,1,1,0,0])\n",
    "abby_p = pickle.load(open('data/raw_data/abby.pkl', 'rb'))\n",
    "abby_comp = add_promo_key(abby_p, abby_corkins)\n",
    "posts.extend(abby_comp)"
   ]
  },
  {
   "cell_type": "code",
   "execution_count": 37,
   "metadata": {},
   "outputs": [],
   "source": [
    "chris_burkard = np.array([1,0,1,0,0,0,0,1,0,0,0,0,0,0,1,0,0,1,0,0,0,1,0,0,1])\n",
    "chris_burkhard_p = pickle.load(open('data/raw_data/chris_burkard.pkl', 'rb'))\n",
    "chris_burkhard_comp = add_promo_key(chris_burkhard_p, chris_burkard)\n",
    "posts.extend(chris_burkhard_comp)"
   ]
  },
  {
   "cell_type": "code",
   "execution_count": 38,
   "metadata": {},
   "outputs": [],
   "source": [
    "alabamahannah = np.array([1,1,1,1,1,0,1,1,1,0,1,1,1,1,1,0,1,1,0,1,0,0,0,0,1])\n",
    "hannah_brown_p = pickle.load(open('data/raw_data/hannah_brown.pkl', 'rb'))\n",
    "hannah_brown_comp = add_promo_key(hannah_brown_p, alabamahannah)\n",
    "posts.extend(hannah_brown_comp)"
   ]
  },
  {
   "cell_type": "code",
   "execution_count": 39,
   "metadata": {},
   "outputs": [],
   "source": [
    "gary_vee = np.array([0,0,0,0,0,0,0,0,0,0,0,0,0,0,0,0,0,0,0,0,0,1,0,0,0])\n",
    "gary_vee_p = pickle.load(open('data/raw_data/gary_vee.pkl', 'rb'))\n",
    "gary_vee_comp = add_promo_key(gary_vee_p, gary_vee)\n",
    "posts.extend(gary_vee_comp)"
   ]
  },
  {
   "cell_type": "code",
   "execution_count": 40,
   "metadata": {},
   "outputs": [],
   "source": [
    "doctor_mike = np.array([1,1,0,1,1,0,0,1,0,0,0,0,0,0,0,0,1,0,1,1,0,0,0,0,0])\n",
    "dr_mike_p = pickle.load(open('data/raw_data/dr_mike.pkl', 'rb'))\n",
    "dr_mike_comp = add_promo_key(dr_mike_p, doctor_mike)\n",
    "posts.extend(dr_mike_comp)"
   ]
  },
  {
   "cell_type": "code",
   "execution_count": 41,
   "metadata": {},
   "outputs": [],
   "source": [
    "dealcasino = np.array([1,0,0,1,1,1,1,1,0,1,1,0,1,1,1,1,0,0,0,1,1,1,0,1,1,])\n",
    "dealcasino_p = pickle.load(open('data/raw_data/dealcasino.pkl', 'rb'))\n",
    "dealcasino_comp = add_promo_key(dealcasino_p, dealcasino)\n",
    "posts.extend(dealcasino_comp)"
   ]
  },
  {
   "cell_type": "code",
   "execution_count": 42,
   "metadata": {},
   "outputs": [],
   "source": [
    "ellen = np.array([1,1,1,0,0,1,0,1,1,0,1,1,1,1,1,0,1,1,1,0,1,1,1,1,1])\n",
    "ellen_degen_p = pickle.load(open('data/raw_data/ellen_degen.pkl', 'rb'))\n",
    "ellen_degen_comp = add_promo_key(ellen_degen_p, ellen)\n",
    "posts.extend(ellen_degen_comp)"
   ]
  },
  {
   "cell_type": "code",
   "execution_count": 43,
   "metadata": {},
   "outputs": [],
   "source": [
    "jerryseinfeld = np.array([1,1,1,1,1,0,1,0,0,0,1,1,1,1,1,1,1,1,0,1,1,0,0,0,0])\n",
    "jerry_seinfeld_p = pickle.load(open('data/raw_data/jerry_seinfeld.pkl', 'rb'))\n",
    "jerry_seinfeld_comp = add_promo_key(jerry_seinfeld_p, jerryseinfeld)\n",
    "posts.extend(jerry_seinfeld_comp)"
   ]
  },
  {
   "cell_type": "code",
   "execution_count": 44,
   "metadata": {},
   "outputs": [],
   "source": [
    "jonas_bros = np.array([0,0,0,0,1,1,0,1,1,1,1,1,0,0,1,1,1,1,1,1,1,1,0,0,0]) \n",
    "jonas_bros_p = pickle.load(open('data/raw_data/jonas_bros.pkl', 'rb'))\n",
    "jonas_bros_comp = add_promo_key(jonas_bros_p, jonas_bros)\n",
    "posts.extend(jonas_bros_comp)"
   ]
  },
  {
   "cell_type": "code",
   "execution_count": 45,
   "metadata": {},
   "outputs": [],
   "source": [
    "bdorts = np.array([1,0,0,1,0,1,1,1,0,0,0,0,0,0,0,0,0,0,0,0,0,0,0,0,0])\n",
    "bdorts_p = pickle.load(open('data/raw_data/bdorts.pkl', 'rb'))\n",
    "bdorts_comp = add_promo_key(bdorts_p, bdorts)\n",
    "posts.extend(bdorts_comp)"
   ]
  },
  {
   "cell_type": "code",
   "execution_count": 46,
   "metadata": {},
   "outputs": [],
   "source": [
    "aliwong = np.array([0,0,1,0,1,1,1,1,1,0,1,1,0,1,1,1,1,1,1,1,1,1,1,1,1,])\n",
    "ali_wong_p = pickle.load(open('data/raw_data/ali_wong.pkl', 'rb'))\n",
    "ali_wong_comp = add_promo_key(ali_wong_p, aliwong)\n",
    "posts.extend(ali_wong_comp)"
   ]
  },
  {
   "cell_type": "code",
   "execution_count": 47,
   "metadata": {},
   "outputs": [],
   "source": [
    "nikolajwilliamcw = np.array([0,0,1,1,0,1,1,1,0,0,1,1,1,0,1,0,1,1,1,0,0,1,1,0,1])\n",
    "nikolaj_p = pickle.load(open('data/raw_data/nikolaj.pkl', 'rb'))\n",
    "nikolaj_comp = add_promo_key(nikolaj_p, nikolajwilliamcw)\n",
    "posts.extend(nikolaj_comp)"
   ]
  },
  {
   "cell_type": "code",
   "execution_count": 48,
   "metadata": {},
   "outputs": [],
   "source": [
    "bill_gates = np.array([0,0,1,1,0,1,0,0,0,1,1,0,0,1,0,0,1,0,0,0,0,0,0,1,1])\n",
    "bill_gates_p = pickle.load(open('data/raw_data/bill_gates.pkl', 'rb'))\n",
    "bill_gates_comp = add_promo_key(bill_gates_p, bill_gates)\n",
    "posts.extend(bill_gates_comp)"
   ]
  },
  {
   "cell_type": "code",
   "execution_count": 49,
   "metadata": {},
   "outputs": [],
   "source": [
    "jeffbezos = np.array([0,0,1,1,1,0,1,0,0,1,1,0,1,1,1,0,0,1,1,1,0,1,1,1,1])\n",
    "jeff_bezos_p = pickle.load(open('data/raw_data/jeff_bezos.pkl', 'rb'))\n",
    "jeff_bezos_comp = add_promo_key(jeff_bezos_p, jeffbezos)\n",
    "posts.extend(jeff_bezos_comp)"
   ]
  },
  {
   "cell_type": "code",
   "execution_count": 51,
   "metadata": {},
   "outputs": [],
   "source": [
    "import pandas as pd\n",
    "posts_df = pd.DataFrame(posts)"
   ]
  },
  {
   "cell_type": "code",
   "execution_count": 59,
   "metadata": {},
   "outputs": [
    {
     "data": {
      "text/plain": [
       "age            494\n",
       "comment        494\n",
       "likes/views    494\n",
       "link           494\n",
       "promo          494\n",
       "user           494\n",
       "dtype: int64"
      ]
     },
     "execution_count": 59,
     "metadata": {},
     "output_type": "execute_result"
    }
   ],
   "source": [
    "posts_df.count()"
   ]
  },
  {
   "cell_type": "code",
   "execution_count": null,
   "metadata": {},
   "outputs": [],
   "source": []
  }
 ],
 "metadata": {
  "kernelspec": {
   "display_name": "Python 3",
   "language": "python",
   "name": "python3"
  },
  "language_info": {
   "codemirror_mode": {
    "name": "ipython",
    "version": 3
   },
   "file_extension": ".py",
   "mimetype": "text/x-python",
   "name": "python",
   "nbconvert_exporter": "python",
   "pygments_lexer": "ipython3",
   "version": "3.7.3"
  }
 },
 "nbformat": 4,
 "nbformat_minor": 2
}

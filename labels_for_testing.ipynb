{
 "cells": [
  {
   "cell_type": "code",
   "execution_count": 1,
   "metadata": {},
   "outputs": [],
   "source": [
    "import numpy as np\n",
    "import pickle\n",
    "from scrape import add_promo_key"
   ]
  },
  {
   "cell_type": "code",
   "execution_count": 2,
   "metadata": {},
   "outputs": [],
   "source": [
    "# 1 if comment is an ad, 0 if not an ad \n",
    "joanna_gaines = np.array([1,0,0,0,1,1,1,0,0,0,0,0,1,0,1,0,0,0,1,0,0,0,0,0,0])\n",
    "joanna_gaines_p = pickle.load(open('data/raw_data/joanna_gaines.pkl', 'rb'))\n",
    "joanna_gaines_comp = add_promo_key(joanna_gaines_p, joanna_gaines)"
   ]
  },
  {
   "cell_type": "code",
   "execution_count": 3,
   "metadata": {},
   "outputs": [],
   "source": [
    "posts = joanna_gaines_comp"
   ]
  },
  {
   "cell_type": "code",
   "execution_count": 4,
   "metadata": {},
   "outputs": [],
   "source": [
    "liam_hemsworth = np.array([0,0,0,0,0,1,1,1,0,0,0,1,1,1,0,0,0,0,1,0,1,0,0,0,0])\n",
    "liam_hemsworth_p = pickle.load(open('data/raw_data/liam_hemsworth.pkl', 'rb'))\n",
    "liam_hemsworth_comp = add_promo_key(liam_hemsworth_p, liam_hemsworth)\n",
    "posts.extend(liam_hemsworth_comp)"
   ]
  },
  {
   "cell_type": "code",
   "execution_count": 5,
   "metadata": {},
   "outputs": [],
   "source": [
    "jvn = np.array([1,0,0,1,0,0,1,1,1,0,1,0,0,1,1,0,0,1,1,1,1,0,1,0,1])\n",
    "jvn_p = pickle.load(open('data/raw_data/jvn.pkl', 'rb'))\n",
    "jvn_comp = add_promo_key(jvn_p, jvn)\n",
    "posts.extend(jvn_comp)"
   ]
  },
  {
   "cell_type": "code",
   "execution_count": 12,
   "metadata": {},
   "outputs": [
    {
     "name": "stdout",
     "output_type": "stream",
     "text": [
      "24\n"
     ]
    }
   ],
   "source": [
    "gary_woodland = np.array([0,1,0,1,1,1,1,1,1,1,1,1,0,0,0,0,0,0,0,1,0,0,0,0,0])\n",
    "gary_woodland_p = pickle.load(open('data/raw_data/gary_woodland.pkl', 'rb'))\n",
    "gary_woodland_comp = add_promo_key(gary_woodland_p, gary_woodland)\n",
    "posts.extend(gary_woodland_comp)"
   ]
  },
  {
   "cell_type": "code",
   "execution_count": 14,
   "metadata": {},
   "outputs": [],
   "source": [
    "julia_engel = np.array([1,1,0,1,0,1,0,1,1,1,1,1,1,1,1,0,1,0,1,0,1,0,1,0,1])\n",
    "julia_engel_p = pickle.load(open('data/raw_data/julia_engel.pkl', 'rb'))\n",
    "julia_engel_comp = add_promo_key(julia_engel_p, julia_engel)\n",
    "posts.extend(julia_engel_comp)"
   ]
  },
  {
   "cell_type": "code",
   "execution_count": 15,
   "metadata": {},
   "outputs": [],
   "source": [
    "jensen_arnold = np.array([0,0,0,0,0,0,0,1,1,0,1,0,1,1,0,1,0,1,1,0,0,1,0,0,0])\n",
    "jensen_arnold_p = pickle.load(open('data/raw_data/jensen_arnold.pkl', 'rb'))\n",
    "jensen_arnold_comp = add_promo_key(jensen_arnold_p, jensen_arnold)\n",
    "posts.extend(jensen_arnold_comp)"
   ]
  },
  {
   "cell_type": "code",
   "execution_count": 16,
   "metadata": {},
   "outputs": [],
   "source": [
    "john_mulaney = np.array([0,0,1,0,0,0,0,0,0,0,0,1,1,0,0,1,0,0,0,1,0,1,0,1])\n",
    "john_mulaney_p = pickle.load(open('data/raw_data/john_mulaney.pkl', 'rb'))\n",
    "john_mulaney_comp = add_promo_key(john_mulaney_p, john_mulaney)\n",
    "posts.extend(john_mulaney_comp)"
   ]
  },
  {
   "cell_type": "code",
   "execution_count": 17,
   "metadata": {},
   "outputs": [],
   "source": [
    "shibani_dandekar = np.array([1,0,0,1,0,1,0,0,0,0,0,1,1,1,0,0,0,1,1,1,0,1,1,0,1])\n",
    "shibani_dandekar_p = pickle.load(open('data/raw_data/shibani_dandekar.pkl', 'rb'))\n",
    "shibani_dandekar_comp = add_promo_key(shibani_dandekar_p, shibani_dandekar)\n",
    "posts.extend(shibani_dandekar_comp)"
   ]
  },
  {
   "cell_type": "code",
   "execution_count": 18,
   "metadata": {},
   "outputs": [],
   "source": [
    "cultivitae = np.array([1,1,0,0,0,0,1,0,1,0,0,0,0,0,0,0,0,1,1,1,1,1,1,0,0])\n",
    "cultivitae_p = pickle.load(open('data/raw_data/cultivitae.pkl', 'rb'))\n",
    "cultivitae_comp = add_promo_key(cultivitae_p, cultivitae)\n",
    "posts.extend(cultivitae_comp)"
   ]
  },
  {
   "cell_type": "code",
   "execution_count": 19,
   "metadata": {},
   "outputs": [],
   "source": [
    "janet_mock = np.array([1,1,0,1,1,1,0,1,1,0,0,1,1,0,1,0,0,1,0,0,0,0,1,1,0])\n",
    "janet_mock_p = pickle.load(open('data/raw_data/janet_mock.pkl', 'rb'))\n",
    "janet_mock_comp = add_promo_key(janet_mock_p, janet_mock)\n",
    "posts.extend(janet_mock_comp)"
   ]
  },
  {
   "cell_type": "code",
   "execution_count": 20,
   "metadata": {},
   "outputs": [],
   "source": [
    "import pandas as pd\n",
    "testing_posts_df = pd.DataFrame(posts)"
   ]
  },
  {
   "cell_type": "code",
   "execution_count": 21,
   "metadata": {},
   "outputs": [
    {
     "data": {
      "text/plain": [
       "age            248\n",
       "comment        248\n",
       "likes/views    248\n",
       "link           248\n",
       "promo          248\n",
       "user           248\n",
       "dtype: int64"
      ]
     },
     "execution_count": 21,
     "metadata": {},
     "output_type": "execute_result"
    }
   ],
   "source": [
    "testing_posts_df.count()"
   ]
  },
  {
   "cell_type": "code",
   "execution_count": 22,
   "metadata": {},
   "outputs": [],
   "source": [
    "pickle.dump(testing_posts_df, open('data/testing_posts.pkl', 'wb'))"
   ]
  },
  {
   "cell_type": "code",
   "execution_count": null,
   "metadata": {},
   "outputs": [],
   "source": []
  }
 ],
 "metadata": {
  "kernelspec": {
   "display_name": "learn-env",
   "language": "python",
   "name": "learn-env"
  },
  "language_info": {
   "codemirror_mode": {
    "name": "ipython",
    "version": 3
   },
   "file_extension": ".py",
   "mimetype": "text/x-python",
   "name": "python",
   "nbconvert_exporter": "python",
   "pygments_lexer": "ipython3",
   "version": "3.6.6"
  }
 },
 "nbformat": 4,
 "nbformat_minor": 2
}

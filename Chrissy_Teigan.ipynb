{
 "cells": [
  {
   "cell_type": "code",
   "execution_count": 86,
   "metadata": {},
   "outputs": [],
   "source": [
    "import pandas as pd\n",
    "import time\n",
    "import urllib.request\n",
    "from collections import Counter\n",
    "from selenium.webdriver import Chrome"
   ]
  },
  {
   "cell_type": "code",
   "execution_count": 87,
   "metadata": {},
   "outputs": [],
   "source": [
    "browser = Chrome()\n",
    "url = \"https://www.instagram.com/\"\n",
    "browser.get(url)"
   ]
  },
  {
   "cell_type": "code",
   "execution_count": 88,
   "metadata": {},
   "outputs": [],
   "source": [
    "def recent_25_posts(username):\n",
    "    \"\"\"With the input of an account page, scrape the 25 most recent posts urls\"\"\"\n",
    "    url = \"https://www.instagram.com/\" + username + \"/\"\n",
    "    browser = Chrome()\n",
    "    browser.get(url)\n",
    "    post = 'https://www.instagram.com/p/'\n",
    "    post_links = []\n",
    "    while len(post_links) < 25:\n",
    "        links = [a.get_attribute('href') for a in browser.find_elements_by_tag_name('a')]\n",
    "        for link in links:\n",
    "            if post in link and link not in post_links:\n",
    "                post_links.append(link)\n",
    "        scroll_down = \"window.scrollTo(0, document.body.scrollHeight);\"\n",
    "        browser.execute_script(scroll_down)\n",
    "        time.sleep(10)\n",
    "    else:\n",
    "        return post_links[:25]"
   ]
  },
  {
   "cell_type": "code",
   "execution_count": 106,
   "metadata": {},
   "outputs": [],
   "source": [
    "def insta_details(urls):\n",
    "    \"\"\"Take a post url and return post details\"\"\"\n",
    "    browser = Chrome()\n",
    "    post_details = []\n",
    "    for link in urls:\n",
    "        browser.get(link)\n",
    "        try:\n",
    "        # This captures the standard like count. \n",
    "            likes = browser.find_element_by_partial_link_text(' likes').text\n",
    "        except:\n",
    "        # This captures the like count for videos which is stored\n",
    "            xpath_view = '//*[@id=\"react-root\"]/section/main/div/div/article/div[2]/section[2]/div/span/span'\n",
    "            likes = browser.find_element_by_xpath(xpath_view).text\n",
    "        age = browser.find_element_by_css_selector('a time').text\n",
    "        try:\n",
    "            xpath_comment = '//*[@id=\"react-root\"]/section/main/div/div/article/div[2]/div[1]/ul/li[1]/div/div/div[2]/span'\n",
    "            comment = browser.find_element_by_xpath(xpath_comment).text\n",
    "            insta_link = link.replace('https://www.instagram.com/p','')\n",
    "            username_path = '//*[@id=\"react-root\"]/section/main/div/div/article/header/div[2]/div[1]/div[1]/h2/a'\n",
    "            username = browser.find_element_by_xpath(username_path).text\n",
    "            post_details.append({'user': username, 'link': insta_link,'likes/views': likes,'age': age, 'comment': comment})\n",
    "        except:\n",
    "            continue\n",
    "        time.sleep(10)\n",
    "        break\n",
    "    return post_details"
   ]
  },
  {
   "cell_type": "code",
   "execution_count": 102,
   "metadata": {},
   "outputs": [],
   "source": [
    "teigan_urls = recent_25_posts('chrissyteigen')"
   ]
  },
  {
   "cell_type": "code",
   "execution_count": 103,
   "metadata": {},
   "outputs": [
    {
     "name": "stdout",
     "output_type": "stream",
     "text": [
      "['https://www.instagram.com/p/BytNlrQhRx8/', 'https://www.instagram.com/p/Byqz8uZh73s/', 'https://www.instagram.com/p/BymErW1B9eL/', 'https://www.instagram.com/p/Byl-aHjBXFX/', 'https://www.instagram.com/p/ByduG0BB_A3/', 'https://www.instagram.com/p/BybRIkKhkzZ/', 'https://www.instagram.com/p/BybNlyghZmR/', 'https://www.instagram.com/p/BybMcvxhbCb/', 'https://www.instagram.com/p/BybL-69BIfw/', 'https://www.instagram.com/p/BybEeA6BmkQ/', 'https://www.instagram.com/p/Bya-pT_BhJw/', 'https://www.instagram.com/p/ByYbN5JB50W/', 'https://www.instagram.com/p/ByYadSdB3V8/', 'https://www.instagram.com/p/ByYUAW2h5wy/', 'https://www.instagram.com/p/ByXA6tTB_oq/', 'https://www.instagram.com/p/ByWEjaMh5Z5/', 'https://www.instagram.com/p/ByTqoNMhvhi/', 'https://www.instagram.com/p/ByTN8QABCDk/', 'https://www.instagram.com/p/ByQl6rSh02u/', 'https://www.instagram.com/p/ByQM8J3hYXL/', 'https://www.instagram.com/p/ByQMVBRh0sh/', 'https://www.instagram.com/p/ByPjvcIhFmi/', 'https://www.instagram.com/p/ByG8oe8BD3G/', 'https://www.instagram.com/p/ByGqZBtBUhY/', 'https://www.instagram.com/p/Bx_aCnah18o/']\n"
     ]
    }
   ],
   "source": [
    "print(teigan_urls)"
   ]
  },
  {
   "cell_type": "code",
   "execution_count": 107,
   "metadata": {},
   "outputs": [],
   "source": [
    "teigen_post_info = insta_details(teigan_urls)\n"
   ]
  },
  {
   "cell_type": "code",
   "execution_count": 108,
   "metadata": {},
   "outputs": [
    {
     "data": {
      "text/plain": [
       "[{'user': 'chrissyteigen',\n",
       "  'link': '/BytNlrQhRx8/',\n",
       "  'likes/views': '404,817 likes',\n",
       "  'age': '2 DAYS AGO',\n",
       "  'comment': 'found my new favorite park!'}]"
      ]
     },
     "execution_count": 108,
     "metadata": {},
     "output_type": "execute_result"
    }
   ],
   "source": [
    "teigen_post_info"
   ]
  },
  {
   "cell_type": "code",
   "execution_count": null,
   "metadata": {},
   "outputs": [],
   "source": []
  }
 ],
 "metadata": {
  "kernelspec": {
   "display_name": "Python 3",
   "language": "python",
   "name": "python3"
  },
  "language_info": {
   "codemirror_mode": {
    "name": "ipython",
    "version": 3
   },
   "file_extension": ".py",
   "mimetype": "text/x-python",
   "name": "python",
   "nbconvert_exporter": "python",
   "pygments_lexer": "ipython3",
   "version": "3.7.3"
  }
 },
 "nbformat": 4,
 "nbformat_minor": 2
}

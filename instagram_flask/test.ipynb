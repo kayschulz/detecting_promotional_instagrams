{
 "cells": [
  {
   "cell_type": "code",
   "execution_count": 1,
   "metadata": {},
   "outputs": [
    {
     "name": "stderr",
     "output_type": "stream",
     "text": [
      "Using TensorFlow backend.\n"
     ]
    }
   ],
   "source": [
    "import random\n",
    "import pandas as pd\n",
    "import json\n",
    "from sklearn.feature_extraction.text import TfidfVectorizer\n",
    "from sklearn.naive_bayes import MultinomialNB\n",
    "from sklearn.pipeline import Pipeline\n",
    "import h5py\n",
    "from flask import Flask, request, render_template, jsonify\n",
    "from tensorflow.keras.models import load_model\n",
    "from nltk import word_tokenize\n",
    "from tensorflow.keras.preprocessing.sequence import pad_sequences\n",
    "from tensorflow.keras.preprocessing import sequence\n",
    "import pickle\n",
    "import tensorflow as tf\n",
    "\n",
    "import os\n",
    "#os.environ['KERAS_BACKEND'] = 'theano'\n",
    "import keras as ks"
   ]
  },
  {
   "cell_type": "code",
   "execution_count": 3,
   "metadata": {},
   "outputs": [],
   "source": [
    "# model = load_model(\"instagram_flask/final_model.hdf5\")\n",
    "tokenizer = pickle.load(open('tokenizer.pkl', 'rb'))\n",
    "#app = Flask(__name__, static_url_path=\"\")\n",
    "#graph = tf.keras.get_default_graph()"
   ]
  },
  {
   "cell_type": "code",
   "execution_count": 6,
   "metadata": {},
   "outputs": [],
   "source": [
    "def get_model():\n",
    "    global model\n",
    "    model = load_model(\"final_model.hdf5\")"
   ]
  },
  {
   "cell_type": "code",
   "execution_count": 7,
   "metadata": {},
   "outputs": [
    {
     "name": "stderr",
     "output_type": "stream",
     "text": [
      "WARNING: Logging before flag parsing goes to stderr.\n",
      "W0621 10:58:07.266736 140735550342016 deprecation.py:323] From /Users/kaylischulz/anaconda3/envs/learn-env/lib/python3.6/site-packages/tensorflow/python/ops/math_grad.py:1250: add_dispatch_support.<locals>.wrapper (from tensorflow.python.ops.array_ops) is deprecated and will be removed in a future version.\n",
      "Instructions for updating:\n",
      "Use tf.where in 2.0, which has the same broadcast rule as np.where\n"
     ]
    }
   ],
   "source": [
    "get_model()"
   ]
  },
  {
   "cell_type": "code",
   "execution_count": 44,
   "metadata": {},
   "outputs": [],
   "source": [
    "# @app.route('/')\n",
    "# def index():\n",
    "#     \"\"\"Return the main page.\"\"\"\n",
    "#     return render_template('index.html')\n",
    "\n",
    "# vectorizes and tokenizes the input\n",
    "\n",
    "def tokenize_input(user_input):\n",
    "    \"\"\"Vectorize and tokenize input\"\"\"\n",
    "    list_tokenized = tokenizer.texts_to_sequences(user_input.map(word_tokenize).values)\n",
    "    X_t = sequence.pad_sequences(list_tokenized, maxlen=100)\n",
    "    return X_t"
   ]
  },
  {
   "cell_type": "code",
   "execution_count": 45,
   "metadata": {},
   "outputs": [],
   "source": [
    "#@app.route('/predict', methods=['GET','POST'])\n",
    "def predict(user_input):\n",
    "    \"\"\"Return a random prediction.\"\"\"\n",
    "    #data = request.get_json(force=True)\n",
    "    user_input = pd.Series(data, name='comment')\n",
    "    X_t = tokenize_input(user_input)\n",
    "    prediction = model.predict(X_t)\n",
    "    response = {'probability not promo': str(prediction[0][0].round(4)),\n",
    "                'probability_promo': str(prediction[0][1].round(4))}\n",
    "    #return jsonify(response)\n",
    "    return response"
   ]
  },
  {
   "cell_type": "code",
   "execution_count": 46,
   "metadata": {},
   "outputs": [
    {
     "data": {
      "text/plain": [
       "{'probability not promo': '0.0015', 'probability_promo': '0.9985'}"
      ]
     },
     "execution_count": 46,
     "metadata": {},
     "output_type": "execute_result"
    }
   ],
   "source": [
    "predict({'user_input': '''Y’all really stepped up to the \n",
    "        #ChipInChallenge and together we raised over $2 \n",
    "        million for the fight against cancer! We go to \n",
    "        @StJude next week and can’t wait to see the \n",
    "        precious kids and present them with a check for\n",
    "        $1.49 million from all of you. On top of that, $512,000 \n",
    "        is going to our dear friend Gabe’s foundation, @bravelikegabe. \n",
    "        She will forever inspire us to be brave. ❤️ Thank you ALL for chipping in with us! #NotTodayCancer'''})"
   ]
  },
  {
   "cell_type": "code",
   "execution_count": null,
   "metadata": {},
   "outputs": [],
   "source": []
  }
 ],
 "metadata": {
  "kernelspec": {
   "display_name": "learn-env",
   "language": "python",
   "name": "learn-env"
  },
  "language_info": {
   "codemirror_mode": {
    "name": "ipython",
    "version": 3
   },
   "file_extension": ".py",
   "mimetype": "text/x-python",
   "name": "python",
   "nbconvert_exporter": "python",
   "pygments_lexer": "ipython3",
   "version": "3.6.6"
  }
 },
 "nbformat": 4,
 "nbformat_minor": 2
}

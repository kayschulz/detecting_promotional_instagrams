{
 "cells": [
  {
   "cell_type": "code",
   "execution_count": 2,
   "metadata": {},
   "outputs": [],
   "source": [
    "import numpy as np\n",
    "import pandas as pd\n",
    "import pickle\n",
    "from scrape import add_promo_key"
   ]
  },
  {
   "cell_type": "code",
   "execution_count": null,
   "metadata": {},
   "outputs": [],
   "source": [
    "the_rock = np.array([1,0,1,1,1,1,0,1,1,1,1,1,0,0,1,1,1,0,1,1,1,1,1,0,0])\n",
    "the_rock_p = pickle.load(open('data/raw_data/therock.pkl', 'rb'))\n",
    "the_rock_comp = add_promo_key(the_rock_p, the_rock)\n",
    "posts = the_rock_comp"
   ]
  },
  {
   "cell_type": "code",
   "execution_count": null,
   "metadata": {},
   "outputs": [],
   "source": [
    "adam_jones = np.array([0,0,1,0,0,0,0,0,0,0,1,0,0,0,0,0,0,0,0,0,0,0,0,0,0])\n",
    "adam_jones_p = pickle.load(open('data/raw_data/adam_jones.pkl', 'rb'))\n",
    "adam_jones_comp = add_promo_key(adam_jones_p, adam_jones)\n",
    "posts.extend(adam_jones_comp)"
   ]
  },
  {
   "cell_type": "code",
   "execution_count": null,
   "metadata": {},
   "outputs": [],
   "source": [
    "kevin_hart = np.array([0,0,0,0,0,1,0,0,0,0,0,1,0,0,0,0,0,0,0,0,0,0,0,1,0])\n",
    "kevin_hart_p = pickle.load(open('data/raw_data/kevinhart.pkl', 'rb'))\n",
    "kevin_hart_comp = add_promo_key(kevin_hart_p, kevin_hart)\n",
    "posts.extend(kevin_hart_comp)"
   ]
  },
  {
   "cell_type": "code",
   "execution_count": null,
   "metadata": {},
   "outputs": [],
   "source": [
    "david_dobrik = np.array([0,0,0,0,0,0,0,0,0,0,0,0,0,0,0,0,0,0,0,0,0,0,0,0,0])\n",
    "david_dobrik_p = pickle.load(open('data/raw_data/david_dobrik.pkl', 'rb'))\n",
    "david_dobrik_comp = add_promo_key(david_dobrik_p, david_dobrik)\n",
    "posts.extend(david_dobrik_comp)"
   ]
  },
  {
   "cell_type": "code",
   "execution_count": null,
   "metadata": {},
   "outputs": [],
   "source": [
    "carli_lloyd = np.array([0,1,1,1,0,1,0,1,0,1,0,0,1,0,1,0,1,0,1,1,1,0,1,0,1])\n",
    "carli_lloyd_p = pickle.load(open('data/raw_data/carli_lloyd.pkl', 'rb'))\n",
    "carli_lloyd_comp = add_promo_key(carli_lloyd_p, carli_lloyd)\n",
    "posts.extend(carli_lloyd_comp)"
   ]
  },
  {
   "cell_type": "code",
   "execution_count": null,
   "metadata": {},
   "outputs": [],
   "source": [
    "jenna_fisher = np.array([0,0,0,0,1,0,0,0,1,0,0,0,1,0,1,0,0,0,0,0,1,0,0,0,0])\n",
    "jenna_fisher_p = pickle.load(open('data/raw_data/jenna_fisher.pkl', 'rb'))\n",
    "jenna_fisher_comp = add_promo_key(jenna_fisher_p, jenna_fisher)\n",
    "posts.extend(jenna_fisher_comp)"
   ]
  },
  {
   "cell_type": "code",
   "execution_count": null,
   "metadata": {},
   "outputs": [],
   "source": [
    "justin_timberlake = np.array([0,0,0,0,0,0,0,0,0,0,0,0,1,0,0,1,0,0,0,1,1,0,1,0,1])\n",
    "justin_timberlake_p = pickle.load(open('data/raw_data/justin_timberlake.pkl', 'rb'))\n",
    "justin_timberlake_comp = add_promo_key(justin_timberlake_p, justin_timberlake)\n",
    "posts.extend(justin_timberlake_comp)"
   ]
  },
  {
   "cell_type": "code",
   "execution_count": null,
   "metadata": {},
   "outputs": [],
   "source": [
    "obama = np.array([1,0,0,0,0,1,0,0,0,1,0,0,0,0,0,1,1,0,0,1,0,0,0,1,0])\n",
    "obama_p = pickle.load(open('data/raw_data/obama.pkl', 'rb'))\n",
    "obama_comp = add_promo_key(obama_p, obama)\n",
    "posts.extend(obama_comp)"
   ]
  },
  {
   "cell_type": "code",
   "execution_count": null,
   "metadata": {},
   "outputs": [],
   "source": [
    "sophie_turner = np.array([1,1,1,1,1,1,0,0,0,0,1,1,1,0,1,0,0,0,0,1,1,1,1,0,1])\n",
    "sophie_turner_p = pickle.load(open('data/raw_data/sophie_turner.pkl', 'rb'))\n",
    "sophie_turner_comp = add_promo_key(sophie_turner_p, sophie_turner)\n",
    "posts.extend(sophie_turner_comp)"
   ]
  },
  {
   "cell_type": "code",
   "execution_count": null,
   "metadata": {},
   "outputs": [],
   "source": [
    "baby_animals = np.array([1,0,0,0,0,0,0,0,0,0,0,1,0,0,0,0,1,0,0,0,0,0,0,0,0])\n",
    "baby_animals_p = pickle.load(open('data/raw_data/baby_animals.pkl', 'rb'))\n",
    "baby_animals_comp = add_promo_key(baby_animals_p, baby_animals)\n",
    "posts.extend(baby_animals_comp)"
   ]
  },
  {
   "cell_type": "code",
   "execution_count": null,
   "metadata": {},
   "outputs": [],
   "source": [
    "airbnb = np.array([,,,,,,,,,,,,,,,,,,,,,,,,])\n",
    "airbnb_p = pickle.load(open('data/raw_data/airbnb.pkl', 'rb'))\n",
    "airbnb_comp = add_promo_key(airbnb_p, airbnb)\n",
    "posts.extend(airbnb_comp)"
   ]
  },
  {
   "cell_type": "code",
   "execution_count": null,
   "metadata": {},
   "outputs": [],
   "source": [
    "royal_fam = np.array([0,0,0,0,0,1,0,0,0,0,1,0,1,0,0,1,0,1,1,0,0,0,0,0,0])\n",
    "royal_fam_p = pickle.load(open('data/raw_data/royal_fam.pkl', 'rb'))\n",
    "royal_fam_comp = add_promo_key(royal_fam_p, royal_fam)\n",
    "posts.extend(royal_fam_comp)"
   ]
  },
  {
   "cell_type": "code",
   "execution_count": null,
   "metadata": {},
   "outputs": [],
   "source": [
    "chef_sadie = np.array([,,,,,,,,,,,,,,,,,,,,,,,,])\n",
    "chef_sadie_p = pickle.load(open('data/raw_data/chef_sadie.pkl', 'rb'))\n",
    "chef_sadie_comp = add_promo_key(chef_sadie_p, chef_sadie)\n",
    "posts.extend(chef_sadie_comp)"
   ]
  },
  {
   "cell_type": "code",
   "execution_count": null,
   "metadata": {},
   "outputs": [],
   "source": [
    "chef_shota = np.array([,,,,,,,,,,,,,,,,,,,,,,,,])\n",
    "chef_shota_p = pickle.load(open('data/raw_data/chef_shota.pkl', 'rb'))\n",
    "chef_shota_comp = add_promo_key(chef_shota_p, chef_shota)\n",
    "posts.extend(chef_shota_comp)"
   ]
  },
  {
   "cell_type": "code",
   "execution_count": null,
   "metadata": {},
   "outputs": [],
   "source": [
    "jenner_tomaska = np.array([,,,,,,,,,,,,,,,,,,,,,,,,])\n",
    "jenner_tomaska_p = pickle.load(open('data/raw_data/jenner_tomaska.pkl', 'rb'))\n",
    "jenner_tomaska_comp = add_promo_key(jenner_tomaska_p, jenner_tomaska)\n",
    "posts.extend(jenner_tomaska_comp)"
   ]
  },
  {
   "cell_type": "code",
   "execution_count": null,
   "metadata": {},
   "outputs": [],
   "source": [
    "hailey_bb = np.array([,,,,,,,,,,,,,,,,,,,,,,,,])\n",
    "hailey_bb_p = pickle.load(open('data/raw_data/hailey_bb.pkl', 'rb'))\n",
    "hailey_bb_comp = add_promo_key(hailey_bb_p, hailey_bb)\n",
    "posts.extend(hailey_bb_comp)"
   ]
  },
  {
   "cell_type": "code",
   "execution_count": null,
   "metadata": {},
   "outputs": [],
   "source": [
    "jojo_siwa = np.array([,,,,,,,,,,,,,,,,,,,,,,,,])\n",
    "jojo_siwa_p = pickle.load(open('data/raw_data/jojo_siwa.pkl', 'rb'))\n",
    "jojo_siwa_comp = add_promo_key(jojo_siwa_p, jojo_siwa)\n",
    "posts.extend(jojo_siwa_comp)"
   ]
  },
  {
   "cell_type": "code",
   "execution_count": null,
   "metadata": {},
   "outputs": [],
   "source": [
    "cristiano_ronaldo = np.array([,,,,,,,,,,,,,,,,,,,,,,,,])\n",
    "cristiano_ronaldo_p = pickle.load(open('data/raw_data/cristiano_ronaldo.pkl', 'rb'))\n",
    "cristiano_ronaldo_comp = add_promo_key(cristiano_ronaldo_p, cristiano_ronaldo)\n",
    "posts.extend(cristiano_ronaldo_comp)"
   ]
  },
  {
   "cell_type": "code",
   "execution_count": null,
   "metadata": {},
   "outputs": [],
   "source": [
    "selena_gomez = np.array([,,,,,,,,,,,,,,,,,,,,,,,,])\n",
    "selena_gomez_p = pickle.load(open('data/raw_data/selena_gomez.pkl', 'rb'))\n",
    "selena_gomez_comp = add_promo_key(selena_gomez_p, selena_gomez)\n",
    "posts.extend(selena_gomez_comp)"
   ]
  },
  {
   "cell_type": "code",
   "execution_count": null,
   "metadata": {},
   "outputs": [],
   "source": [
    "chris_pratt = np.array([,,,,,,,,,,,,,,,,,,,,,,,,])\n",
    "chris_pratt_p = pickle.load(open('data/raw_data/chris_pratt.pkl', 'rb'))\n",
    "chris_pratt_comp = add_promo_key(chris_pratt_p, chris_pratt)\n",
    "posts.extend(chris_pratt_comp)"
   ]
  },
  {
   "cell_type": "code",
   "execution_count": null,
   "metadata": {},
   "outputs": [],
   "source": [
    "malory_rose = np.array([,,,,,,,,,,,,,,,,,,,,,,,,])\n",
    "malory_rose_p = pickle.load(open('data/raw_data/malory_rose.pkl', 'rb'))\n",
    "malory_rose_comp = add_promo_key(malory_rose_p, malory_rose)\n",
    "posts.extend(malory_rose_comp)"
   ]
  },
  {
   "cell_type": "code",
   "execution_count": null,
   "metadata": {},
   "outputs": [],
   "source": [
    "tanya_thanawa = np.array([,,,,,,,,,,,,,,,,,,,,,,,,])\n",
    "tanya_thanawa_p = pickle.load(open('data/raw_data/tanya_thanawa.pkl', 'rb'))\n",
    "tanya_thanawa_comp = add_promo_key(tanya_thanawa_p, tanya_thanawa)\n",
    "posts.extend(tanya_thanawa_comp)"
   ]
  },
  {
   "cell_type": "code",
   "execution_count": null,
   "metadata": {},
   "outputs": [],
   "source": [
    "zora_gaston = np.array([,,,,,,,,,,,,,,,,,,,,,,,,])\n",
    "zora_gaston_p = pickle.load(open('data/raw_data/zora_gaston.pkl', 'rb'))\n",
    "zora_gaston_comp = add_promo_key(zora_gaston_p, zora_gaston)\n",
    "posts.extend(zora_gaston_comp)"
   ]
  },
  {
   "cell_type": "code",
   "execution_count": null,
   "metadata": {},
   "outputs": [],
   "source": [
    "justin_ching = np.array([,,,,,,,,,,,,,,,,,,,,,,,,])\n",
    "justin_ching_p = pickle.load(open('data/raw_data/justin_ching.pkl', 'rb'))\n",
    "justin_ching_comp = add_promo_key(justin_ching_p, justin_ching)\n",
    "posts.extend(justin_ching_comp)"
   ]
  },
  {
   "cell_type": "code",
   "execution_count": null,
   "metadata": {},
   "outputs": [],
   "source": []
  },
  {
   "cell_type": "code",
   "execution_count": null,
   "metadata": {},
   "outputs": [],
   "source": []
  },
  {
   "cell_type": "code",
   "execution_count": null,
   "metadata": {},
   "outputs": [],
   "source": []
  },
  {
   "cell_type": "code",
   "execution_count": null,
   "metadata": {},
   "outputs": [],
   "source": []
  },
  {
   "cell_type": "code",
   "execution_count": null,
   "metadata": {},
   "outputs": [],
   "source": []
  },
  {
   "cell_type": "code",
   "execution_count": 51,
   "metadata": {},
   "outputs": [],
   "source": [
    "posts_df = pd.DataFrame(posts)"
   ]
  },
  {
   "cell_type": "code",
   "execution_count": 59,
   "metadata": {},
   "outputs": [
    {
     "data": {
      "text/plain": [
       "age            494\n",
       "comment        494\n",
       "likes/views    494\n",
       "link           494\n",
       "promo          494\n",
       "user           494\n",
       "dtype: int64"
      ]
     },
     "execution_count": 59,
     "metadata": {},
     "output_type": "execute_result"
    }
   ],
   "source": [
    "posts_df.count()"
   ]
  },
  {
   "cell_type": "code",
   "execution_count": null,
   "metadata": {},
   "outputs": [],
   "source": []
  }
 ],
 "metadata": {
  "kernelspec": {
   "display_name": "Python 3",
   "language": "python",
   "name": "python3"
  },
  "language_info": {
   "codemirror_mode": {
    "name": "ipython",
    "version": 3
   },
   "file_extension": ".py",
   "mimetype": "text/x-python",
   "name": "python",
   "nbconvert_exporter": "python",
   "pygments_lexer": "ipython3",
   "version": "3.7.3"
  }
 },
 "nbformat": 4,
 "nbformat_minor": 2
}

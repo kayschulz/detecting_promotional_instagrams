{
 "cells": [
  {
   "cell_type": "markdown",
   "metadata": {},
   "source": [
    "## Import Necessary Libraries"
   ]
  },
  {
   "cell_type": "code",
   "execution_count": 1,
   "metadata": {},
   "outputs": [],
   "source": [
    "import pandas as pd\n",
    "import numpy as np\n",
    "import pickle\n",
    "from scrape import add_promo_key"
   ]
  },
  {
   "cell_type": "markdown",
   "metadata": {},
   "source": [
    "## Hand Labeling\n",
    "\n",
    "Add a label for promotional (1) or non-promotional (0) to each post.\n",
    "\n",
    "### Training Data"
   ]
  },
  {
   "cell_type": "code",
   "execution_count": 2,
   "metadata": {},
   "outputs": [],
   "source": [
    "chrissyteigen = np.array([0,0,0,0,0,0,0,1,0,0,0,1,0,0,0,0,0,0,0,1,0,0])\n",
    "posts = add_promo_key('teigen', chrissyteigen)\n",
    "\n",
    "nike = np.array([1,1,1,1,1,1,1,1,1,1,1,1,1,1,1,1,1,1,1,1,1,1,1,1,1])\n",
    "posts.extend(add_promo_key('nike', nike))\n",
    "\n",
    "buttigieg = np.array([0,0,1,0,0,1,1,0,0,1,0,1,0,0,1,0,0,0,0,1,1,0,0,0,1])\n",
    "posts.extend(add_promo_key('buttigieg', buttigieg))\n",
    "\n",
    "kourtneykardash = np.array([0,0,1,0,0,1,1,1,0,0,1,0,1,1,1,0,1,1,0,1,1,0,0])\n",
    "posts.extend(add_promo_key('kourtkardash', kourtneykardash))\n",
    "\n",
    "linleelovesfashion = np.array([0,0,0,0,0,0,0,0,0,0,1,0,0,0,0,0,0,0,0,0,0,0,0,0,0])\n",
    "posts.extend(add_promo_key('lin', linleelovesfashion))\n",
    "\n",
    "beto_orourke = np.array([0,0,0,0,0,1,0,1,0,0,0,1,1,1,0,0,0,0,0,0,0,0,0,0,0])\n",
    "posts.extend(add_promo_key('beto', beto_orourke))\n",
    "\n",
    "abby_corkins = np.array([0,0,1,1,1,0,1,0,1,1,1,1,1,1,0,1,0,1,0,1,1,1,1,0,0])\n",
    "posts.extend(add_promo_key('abby', abby_corkins))\n",
    "\n",
    "chris_burkard = np.array([1,0,1,0,0,0,0,1,0,0,0,0,0,0,1,0,0,1,0,0,0,1,0,0,1])\n",
    "posts.extend(add_promo_key('chris_burkard', chris_burkard))\n",
    "\n",
    "alabamahannah = np.array([1,1,1,1,1,0,1,1,1,0,1,1,1,1,1,0,1,1,0,1,0,0,0,0,1])\n",
    "posts.extend(add_promo_key('hannah_brown', alabamahannah))\n",
    "\n",
    "gary_vee = np.array([0,0,0,0,0,0,0,0,0,0,0,0,0,0,0,0,0,0,0,0,0,1,0,0,0])\n",
    "posts.extend(add_promo_key('gary_vee', gary_vee))\n",
    "\n",
    "doctor_mike = np.array([1,1,0,1,1,0,0,1,0,0,0,0,0,0,0,0,1,0,1,1,0,0,0,0,0])\n",
    "posts.extend(add_promo_key('dr_mike', doctor_mike))\n",
    "\n",
    "dealcasino = np.array([1,0,0,1,1,1,1,1,0,1,1,0,1,1,1,1,0,0,0,1,1,1,0,1,1,])\n",
    "posts.extend(add_promo_key('dealcasino', dealcasino))\n",
    "\n",
    "ellen = np.array([1,1,1,0,0,1,0,1,1,0,1,1,1,1,1,0,1,1,1,0,1,1,1,1,1])\n",
    "posts.extend(add_promo_key('ellen_degen', ellen))\n",
    "\n",
    "jerryseinfeld = np.array([1,1,1,1,1,0,1,0,0,0,1,1,1,1,1,1,1,1,0,1,1,0,0,0,0])\n",
    "posts.extend(add_promo_key('jerry_seinfeld', jerryseinfeld))\n",
    "\n",
    "jonas_bros = np.array([0,0,0,0,1,1,0,1,1,1,1,1,0,0,1,1,1,1,1,1,1,1,0,0,0]) \n",
    "posts.extend(add_promo_key('jonas_bros', jonas_bros))\n",
    "\n",
    "bdorts = np.array([1,0,0,1,0,1,1,1,0,0,0,0,0,0,0,0,0,0,0,0,0,0,0,0,0])\n",
    "posts.extend(add_promo_key('bdorts', bdorts))\n",
    "\n",
    "aliwong = np.array([0,0,1,0,1,1,1,1,1,0,1,1,0,1,1,1,1,1,1,1,1,1,1,1,1,])\n",
    "posts.extend(add_promo_key('ali_wong', aliwong))\n",
    "\n",
    "nikolajwilliamcw = np.array([0,0,1,1,0,1,1,1,0,0,1,1,1,0,1,0,1,1,1,0,0,1,1,0,1])\n",
    "posts.extend(add_promo_key('nikolaj', nikolajwilliamcw))\n",
    "\n",
    "bill_gates = np.array([0,0,1,1,0,1,0,0,0,1,1,0,0,1,0,0,1,0,0,0,0,0,0,1,1])\n",
    "posts.extend(add_promo_key('bill_gates', bill_gates))\n",
    "\n",
    "jeffbezos = np.array([0,0,1,1,1,0,1,0,0,1,1,0,1,1,1,0,0,1,1,1,0,1,1,1,1])\n",
    "posts.extend(add_promo_key('jeff_bezos', jeffbezos))\n",
    "\n",
    "the_rock = np.array([1,0,1,1,1,1,0,1,1,1,1,1,0,0,1,1,1,0,1,1,1,1,1,0,0])\n",
    "posts.extend(add_promo_key('therock', the_rock))\n",
    "\n",
    "adam_jones = np.array([0,0,1,0,0,0,0,0,0,0,1,0,0,0,0,0,0,0,0,0,0,0,0,0,0])\n",
    "posts.extend(add_promo_key('adam_jones', adam_jones))\n",
    "\n",
    "kevin_hart = np.array([0,0,0,0,0,1,0,0,0,0,0,1,0,0,0,0,0,0,0,0,0,0,0,1,0])\n",
    "posts.extend(add_promo_key('kevinhart', kevin_hart))\n",
    "\n",
    "david_dobrik = np.array([0,0,0,0,0,0,0,0,0,0,0,0,0,0,0,0,0,0,0,0,0,0,0,0,0])\n",
    "posts.extend(add_promo_key('daviddobrik', david_dobrik))\n",
    "\n",
    "carli_lloyd = np.array([0,1,1,1,0,1,0,1,0,1,0,0,1,0,1,0,1,0,1,1,1,0,1,0,1])\n",
    "posts.extend(add_promo_key('carlilloyd', carli_lloyd))\n",
    "\n",
    "jenna_fisher = np.array([0,0,0,0,1,0,0,0,1,0,0,0,1,0,1,0,0,0,0,0,1,0,0,0,0])\n",
    "posts.extend(add_promo_key('msjennafischer', jenna_fisher))\n",
    "\n",
    "justin_timberlake = np.array([0,0,0,0,0,0,0,0,0,0,0,0,1,0,0,1,0,0,0,1,1,0,1,0,1])\n",
    "posts.extend(add_promo_key('justintimberlake', justin_timberlake))\n",
    "\n",
    "obama = np.array([1,0,0,0,0,1,0,0,0,1,0,0,0,0,0,1,1,0,0,1,0,0,0,1,0])\n",
    "posts.extend(add_promo_key('barackobama', obama))\n",
    "\n",
    "sophie_turner = np.array([1,1,1,1,1,1,0,0,0,0,1,1,1,0,1,0,0,0,0,1,1,1,1,0,1])\n",
    "posts.extend(add_promo_key('sophie_turner', sophie_turner))\n",
    "\n",
    "baby_animals = np.array([1,0,0,0,0,0,0,0,0,0,0,1,0,0,0,0,1,0,0,0,0,0,0,0,0])\n",
    "posts.extend(add_promo_key('baby_animals', baby_animals))\n",
    "\n",
    "airbnb = np.array([1,1,1,1,1,1,1,1,1,1,1,1,1,1,1,1,1,1,1,1,1,1,1])\n",
    "posts.extend(add_promo_key('airbnb', airbnb))\n",
    "\n",
    "royal_fam = np.array([0,0,0,0,0,1,0,0,0,0,1,0,1,0,0,1,0,1,1,0,0,0,0,0,0])\n",
    "posts.extend(add_promo_key('royal_fam', royal_fam))\n",
    "\n",
    "chef_sadie = np.array([1,0,1,1,1,1,1,1,1,1,1,1,1,1,0,1,0,1,1,1,1,1,0,0,1])\n",
    "posts.extend(add_promo_key('chef_sadie', chef_sadie))\n",
    "\n",
    "chef_shota = np.array([1,0,0,0,1,0,0,0,0,1,1,0,0,1,0,0,1,0,0,0,0,0,1,1,1])\n",
    "posts.extend(add_promo_key('chef_shota', chef_shota))\n",
    "\n",
    "jenner_tomaska = np.array([1,1,1,1,1,0,1,1,1,1,0,0,0,1,0,0,1,0,0,0,0,0,0,0,0])\n",
    "posts.extend(add_promo_key('jenner_tomaska', jenner_tomaska))\n",
    "\n",
    "hailey_bb = np.array([0,0,0,0,0,0,0,0,0,0,0,0,0,0,0,0,0,0,0,0,0,0,0,0,0])\n",
    "posts.extend(add_promo_key('hailey_bb', hailey_bb))\n",
    "\n",
    "jojo_siwa = np.array([1,1,0,1,1,1,0,1,1,1,1,1,1,1,1,1,1,1,1,0,1,1,1,1,0])\n",
    "posts.extend(add_promo_key('jojo_siwa', jojo_siwa))\n",
    "\n",
    "cristiano_ronaldo = np.array([1,0,0,0,0,0,0,0,0,1,0,0,0,0,1,1,1,0,1,0,1,1,0,1,0])\n",
    "posts.extend(add_promo_key('cristiano_ronaldo', cristiano_ronaldo))\n",
    "\n",
    "#1 without comment\n",
    "selena_gomez = np.array([0,0,1,0,0,1,0,0,0,1,1,1,0,0,1,1,1,0,1,1,1,0,1,1])\n",
    "posts.extend(add_promo_key('selena_gomez', selena_gomez))\n",
    "\n",
    "chris_pratt = np.array([0,0,1,1,1,0,0,0,0,1,0,0,1,1,0,0,0,1,1,0,0,0,0,0,1])\n",
    "posts.extend(add_promo_key('chris_pratt', chris_pratt))\n",
    "\n",
    "malory_rose = np.array([0,0,0,0,0,0,0,0,0,0,1,1,1,1,1,1,1,1,0,1,0,0,0,0,0])\n",
    "posts.extend(add_promo_key('malory_rose', malory_rose))\n",
    "\n",
    "tanya_thanawa = np.array([1,1,0,0,0,1,1,1,1,1,1,0,0,1,1,1,1,0,1,1,1,0,1,1,1])\n",
    "posts.extend(add_promo_key('tanya_thanawa', tanya_thanawa))\n",
    "\n",
    "zora_gaston = np.array([0,0,0,0,0,0,0,0,0,0,0,0,0,0,0,0,0,0,0,0,0,1,0,0,0])\n",
    "posts.extend(add_promo_key('zora_gaston', zora_gaston))"
   ]
  },
  {
   "cell_type": "markdown",
   "metadata": {},
   "source": [
    "There are 1065 posts in our training data."
   ]
  },
  {
   "cell_type": "code",
   "execution_count": 11,
   "metadata": {},
   "outputs": [
    {
     "data": {
      "text/plain": [
       "age            1065\n",
       "comment        1065\n",
       "likes/views    1065\n",
       "link           1065\n",
       "promo          1065\n",
       "user           1065\n",
       "dtype: int64"
      ]
     },
     "execution_count": 11,
     "metadata": {},
     "output_type": "execute_result"
    }
   ],
   "source": [
    "posts_df = pd.DataFrame(posts)\n",
    "posts_df.count()"
   ]
  },
  {
   "cell_type": "code",
   "execution_count": 9,
   "metadata": {},
   "outputs": [],
   "source": [
    "# pickle.dump(posts_df, open('../data/training_posts.pkl', 'wb'))"
   ]
  },
  {
   "cell_type": "markdown",
   "metadata": {},
   "source": [
    "### Testing Data"
   ]
  },
  {
   "cell_type": "code",
   "execution_count": 4,
   "metadata": {},
   "outputs": [],
   "source": [
    "joanna_gaines = np.array([1,0,0,0,1,1,1,0,0,0,0,0,1,0,1,0,0,0,1,0,0,0,0,0,0])\n",
    "testing_posts = add_promo_key('joanna_gaines', joanna_gaines)\n",
    "\n",
    "liam_hemsworth = np.array([0,0,0,0,0,1,1,1,0,0,0,1,1,1,0,0,0,0,1,0,1,0,0,0,0])\n",
    "testing_posts.extend(add_promo_key('liam_hemsworth', liam_hemsworth))\n",
    "\n",
    "jvn = np.array([1,0,0,1,0,0,1,1,1,0,1,0,0,1,1,0,0,1,1,1,1,0,1,0,1])\n",
    "testing_posts.extend(add_promo_key('jvn', jvn))\n",
    "\n",
    "gary_woodland = np.array([0,1,0,1,1,1,1,1,1,1,1,1,0,0,0,0,0,0,0,1,0,0,0,0,0])\n",
    "testing_posts.extend(add_promo_key('gary_woodland', gary_woodland))\n",
    "\n",
    "julia_engel = np.array([1,1,0,1,0,1,0,1,1,1,1,1,1,1,1,0,1,0,1,0,1,0,1,0,1])\n",
    "testing_posts.extend(add_promo_key('julia_engel', julia_engel))\n",
    "\n",
    "jensen_arnold = np.array([0,0,0,0,0,0,0,1,1,0,1,0,1,1,0,1,0,1,1,0,0,1,0,0,0])\n",
    "testing_posts.extend(add_promo_key('jensen_arnold', jensen_arnold))\n",
    "\n",
    "john_mulaney = np.array([0,0,1,0,0,0,0,0,0,0,0,1,1,0,0,1,0,0,0,1,0,1,0,1])\n",
    "testing_posts.extend(add_promo_key('john_mulaney', john_mulaney))\n",
    "\n",
    "shibani_dandekar = np.array([1,0,0,1,0,1,0,0,0,0,0,1,1,1,0,0,0,1,1,1,0,1,1,0,1])\n",
    "testing_posts.extend(add_promo_key('shibani_dandekar', shibani_dandekar))\n",
    "\n",
    "cultivitae = np.array([1,1,0,0,0,0,1,0,1,0,0,0,0,0,0,0,0,1,1,1,1,1,1,0,0])\n",
    "testing_posts.extend(add_promo_key('cultivitae', cultivitae))\n",
    "\n",
    "janet_mock = np.array([1,1,0,1,1,1,0,1,1,0,0,1,1,0,1,0,0,1,0,0,0,0,1,1,0])\n",
    "testing_posts.extend(add_promo_key('janet_mock', janet_mock))"
   ]
  },
  {
   "cell_type": "markdown",
   "metadata": {},
   "source": [
    "There are 248 posts in our testing data."
   ]
  },
  {
   "cell_type": "code",
   "execution_count": 7,
   "metadata": {},
   "outputs": [
    {
     "data": {
      "text/plain": [
       "age            248\n",
       "comment        248\n",
       "likes/views    248\n",
       "link           248\n",
       "promo          248\n",
       "user           248\n",
       "dtype: int64"
      ]
     },
     "execution_count": 7,
     "metadata": {},
     "output_type": "execute_result"
    }
   ],
   "source": [
    "testing_posts_df = pd.DataFrame(testing_posts)\n",
    "testing_posts_df.count()"
   ]
  },
  {
   "cell_type": "code",
   "execution_count": 10,
   "metadata": {},
   "outputs": [],
   "source": [
    "# pickle.dump(testing_posts_df, open('../data/testing_posts.pkl', 'wb'))"
   ]
  },
  {
   "cell_type": "code",
   "execution_count": null,
   "metadata": {},
   "outputs": [],
   "source": []
  }
 ],
 "metadata": {
  "kernelspec": {
   "display_name": "Python 3",
   "language": "python",
   "name": "python3"
  },
  "language_info": {
   "codemirror_mode": {
    "name": "ipython",
    "version": 3
   },
   "file_extension": ".py",
   "mimetype": "text/x-python",
   "name": "python",
   "nbconvert_exporter": "python",
   "pygments_lexer": "ipython3",
   "version": "3.7.1"
  }
 },
 "nbformat": 4,
 "nbformat_minor": 2
}

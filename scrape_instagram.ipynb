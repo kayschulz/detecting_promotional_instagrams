{
 "cells": [
  {
   "cell_type": "markdown",
   "metadata": {},
   "source": [
    "Credit for this code goes to GitHub User jnawjux for allowing us to borrow his code for this project."
   ]
  },
  {
   "cell_type": "code",
   "execution_count": 21,
   "metadata": {},
   "outputs": [],
   "source": [
    "import pandas as pd\n",
    "import time\n",
    "import urllib.request\n",
    "from collections import Counter\n",
    "from selenium.webdriver import Chrome\n",
    "from scrape import recent_25_posts, insta_details\n",
    "import pickle"
   ]
  },
  {
   "cell_type": "code",
   "execution_count": 2,
   "metadata": {},
   "outputs": [],
   "source": [
    "browser = Chrome()\n",
    "url = \"https://www.instagram.com/\"\n",
    "browser.get(url)"
   ]
  },
  {
   "cell_type": "code",
   "execution_count": 3,
   "metadata": {},
   "outputs": [],
   "source": [
    "teigan_urls = recent_25_posts('chrissyteigen')\n",
    "teigen_post_info = insta_details(teigan_urls)"
   ]
  },
  {
   "cell_type": "code",
   "execution_count": 13,
   "metadata": {},
   "outputs": [],
   "source": [
    "#pickle.dump(teigen_post_info, open('data/raw_data/teigen.pkl', 'wb'))"
   ]
  },
  {
   "cell_type": "code",
   "execution_count": 8,
   "metadata": {},
   "outputs": [
    {
     "data": {
      "text/plain": [
       "[{'user': 'nike',\n",
       "  'link': '/Byp-5gXAHdb/',\n",
       "  'likes/views': '619,284',\n",
       "  'age': '4 DAYS AGO',\n",
       "  'comment': 'When we win, it won’t be by ourselves. #betrue #untilweallwin\\n⠀\\n@casterSemenya800m @TheChrisMosier @ScoutBassett @KerronClement @MarkMcKenzie4 @EricKoston @Elissa_Steamer @Daaarkness @SBird10 @BrittneyYvetteGriner @jaeecan @Jewellloyd'},\n",
       " {'user': 'nike',\n",
       "  'link': '/Byfs_lCAGhc/',\n",
       "  'likes/views': '3,661,892',\n",
       "  'age': 'JUNE 9',\n",
       "  'comment': 'Crazy dreams take crazy effort.\\n⠀\\n18 career majors. 12 French titles. Congratulations @rafaelnadal. #justdoit'},\n",
       " {'user': 'nike',\n",
       "  'link': '/ByavX9Bgoii/',\n",
       "  'likes/views': '292,107 likes',\n",
       "  'age': 'JUNE 7',\n",
       "  'comment': '“Whatever happens, we’re a team. In defeat as much as in victory. It’s impossible to win by yourself.” @amandine_henry\\n⠀\\nWhen Amandine Henry and her teammates were young, they could only dream of an opportunity like this.\\n⠀\\nToday, that dream becomes reality.\\n⠀\\nDon’t change your dream. Change the world. #justdoit'},\n",
       " {'user': 'nike',\n",
       "  'link': '/ByRHbJIg5_d/',\n",
       "  'likes/views': '180,097 likes',\n",
       "  'age': 'JUNE 3',\n",
       "  'comment': \"“Even if I were born again, I’d still play football.” @ji_soyun10\\n⠀\\nJi So-Yun's dream isn’t to be one of the best female football players in the world.\\n⠀\\nJi dreams of becoming one of the best players in the world, period. #justdoit\"},\n",
       " {'user': 'nike',\n",
       "  'link': '/ByK3evuAuCw/',\n",
       "  'likes/views': '470,552 likes',\n",
       "  'age': 'JUNE 1',\n",
       "  'comment': '“It’s important for girls to believe in themselves, because if you believe in yourself that means you can do anything.” - Makena, Age 9, #justdoit'},\n",
       " {'user': 'nike',\n",
       "  'link': '/Bx_kxIxAKDA/',\n",
       "  'likes/views': '1,693,497',\n",
       "  'age': 'MAY 27',\n",
       "  'comment': '@amandine_henry: It’s impossible to win by yourself.\\n\\n“Whatever happens, we’re a team. In defeat, as much as in victory. It’s impossible to win by yourself. Impossible. And I think that, if you perform well individually, you’ll perform well collectively.”\\n⠀\\nFrench midfield general Amandine Henry knows it takes a whole team to win and now, as captain of her country, she’s not afraid to lead that team.\\n⠀\\nDon’t change your dream. Change the world. #justdoit'},\n",
       " {'user': 'nike',\n",
       "  'link': '/Bx6bJQcA4xr/',\n",
       "  'likes/views': '2,401,306',\n",
       "  'age': 'MAY 25',\n",
       "  'comment': '@liekemartens: Create your own path.\\n\\n“I’m really happy to be able to inspire the next generation of girls. That they now have female role models, and can see what they can achieve so that they’ll work hard and eventually follow in my footsteps.”\\n⠀\\nAs a child Netherlands’ star Lieke Martens told everyone she wanted to become a professional footballer. When they replied: “Dream on, girl” that’s exactly what she did.\\n⠀\\nDon’t change your dream. Change the world. #justdoit'},\n",
       " {'user': 'nike',\n",
       "  'link': '/Bx2ej7WlCxF/',\n",
       "  'likes/views': '249,998 likes',\n",
       "  'age': 'MAY 24',\n",
       "  'comment': '“One of the biggest things is just trusting yourself.” @naomiosaka\\n⠀\\nJust because your situation changes doesn’t mean you have to. #justdoit'},\n",
       " {'user': 'nike',\n",
       "  'link': '/Bx1Sh6nlrVL/',\n",
       "  'likes/views': '1,957,423',\n",
       "  'age': 'MAY 23',\n",
       "  'comment': '@frankirby: Find your joy.\\n\\n“Find your joy and make sure that you give 100 percent in everything you do.”\\n⠀\\nEngland striker Fran Kirby never changed her dream of playing for England even though there was a time she fell out of love with football. But her dream was always there and she rediscovered her love for the game. This summer, she prepares to return with the Lionesses again on the world’s biggest stage.\\n⠀\\nDon’t change your dream. Change the world. #justdoit'},\n",
       " {'user': 'nike',\n",
       "  'link': '/BxzrD13FP_I/',\n",
       "  'likes/views': '1,224,484',\n",
       "  'age': 'MAY 23',\n",
       "  'comment': \"@carogarcia: Dream Crazier\\n\\n“He’s always trying to push me because he knows I’m going to improve.” @carogarcia\\n\\nSometimes your first coach is your best one.\\n\\nCaroline's father has guided her from her first tournament to her latest one. Challenging her and comforting her. Pushing her and patting her on the back. Celebrating and commiserating.\\n\\nTraditionally, elite tennis players move on. They “grow up” and work with someone else. Obviously, Caroline is anything but traditional. #justdoit\"},\n",
       " {'user': 'nike',\n",
       "  'link': '/BxwI91QlmCY/',\n",
       "  'likes/views': '1,382,593',\n",
       "  'age': 'MAY 21',\n",
       "  'comment': '@sara.daebritz13: Talent is not enough\\n\\n\"Talent is not enough, it\\'s important to be determined and disciplined.\"\\n⠀\\nGerman midfielder Sara Däbritz always knew she was going to turn her childhood dream of becoming a professional footballer into a reality. So now it’s time for a new dream: that women’s games will sell out stadiums.\\n⠀\\nDon’t change your dream. Change the world. #justdoit'},\n",
       " {'user': 'nike',\n",
       "  'link': '/BxsAqJCF23_/',\n",
       "  'likes/views': '2,638,669',\n",
       "  'age': 'MAY 20',\n",
       "  'comment': \"@simonahalep: Dream Crazier\\n\\n“If you look around the tennis world, all of the players are much taller than me. But I don’t feel small.” @simonahalep\\n⠀\\nAs a child, when Simona Halep told the world that she wanted to be the next great tennis player, they laughed at her. They said that she was too small.\\n⠀\\nYou know what Simona told us? They were right. Size matters.\\n⠀\\nBut it isn’t height or weight that counts. It's the size of your heart. #justdoit\"},\n",
       " {'user': 'nike',\n",
       "  'link': '/Bxh56tvFiiQ/',\n",
       "  'likes/views': '1,455,457',\n",
       "  'age': 'MAY 16',\n",
       "  'comment': '@jasondayofficial: Dream Crazier\\n\\n“There was a time where my Mom was using a kettle to warm up water so we could have showers.” @jasondayofficial\\n⠀\\nYou don’t have to have much to have a dream.\\n⠀\\nWhen Jason Day was a kid, he didn’t have a bag full of fancy clubs. He didn’t have a country club membership. And at times, he didn’t even have hot water.\\n⠀\\nBut none of that stopped him from the chase. #justdoit'},\n",
       " {'user': 'nike',\n",
       "  'link': '/BxfTLgBhWW3/',\n",
       "  'likes/views': '756,780',\n",
       "  'age': 'MAY 15',\n",
       "  'comment': 'This is what it looks like to be one of the world’s best tuberiders. #justdoit'},\n",
       " {'user': 'nike',\n",
       "  'link': '/Bw2FdPOHxHs/',\n",
       "  'likes/views': '2,019,254',\n",
       "  'age': 'APRIL 29',\n",
       "  'comment': '@alexroca91: Dream Crazier\\n\\n“No one can ever say you can’t do something. If I fail, I’ll see that for myself. But let me try, let me fly, and I’ll find out.”\\n⠀\\nEver since he was a kid, @AlexRoca91’s Crazy Dream was always there. At first, doctors said he was crazy to even walk. Now he’s training to become the first athlete with cerebral palsy to finish the 600km Titan Desert Race, one of the toughest races on the planet. #justdoit'},\n",
       " {'user': 'nike',\n",
       "  'link': '/BwzBHPMlfH4/',\n",
       "  'likes/views': '393,006 likes',\n",
       "  'age': 'APRIL 28',\n",
       "  'comment': '“Believe in yourself and trust that your mind and heart can break barriers.” @kipchogeeliud\\n⠀\\nIt takes more than elite endurance to win a world championship. More than a timely kick to take home a gold medal. More than a stubborn work ethic to break a world record.\\n⠀\\nIt takes a whole lot of belief. And that same belief carried Eliud Kipchoge to win today in London. #justdoit'},\n",
       " {'user': 'nike',\n",
       "  'link': '/Bww8uyZlwHl/',\n",
       "  'likes/views': '2,211,986',\n",
       "  'age': 'APRIL 27',\n",
       "  'comment': 'Mo Farah: Dream Crazier\\n\\n“Most people think that there is a limit, but there is always more.” @gomofarah\\n⠀\\nFor most people, this isn’t what retirement looks like. Most people relax. They spend less time on the road and more time at home. Most people slow down.\\n⠀\\nObviously, Mo Farah is not most people. #justdoit'},\n",
       " {'user': 'nike',\n",
       "  'link': '/BwPv2G-l4Jf/',\n",
       "  'likes/views': '12,915,607',\n",
       "  'age': 'APRIL 14',\n",
       "  'comment': 'Never stop chasing your crazy dream. #justdoit'},\n",
       " {'user': 'nike',\n",
       "  'link': '/BwNs0GeFLwF/',\n",
       "  'likes/views': '391,008 likes',\n",
       "  'age': 'APRIL 13',\n",
       "  'comment': '“It is great to see the trend of women coming to the marathon, taking on the challenge and really growing with it.” - @paula_radcliffe\\n⠀\\nTomorrow, 60,000 runners will line up in Paris. That’s 60,000 runners who’ve committed weekends, early mornings, late nights, some sanity, and a few toenails to run 26.2 miles. Yeah, they’ve given up a lot. But it’s nothing compared to what they’ve gained.\\n⠀\\nFollow @nikerunning to support @voltwomen. #justdoit'},\n",
       " {'user': 'nike',\n",
       "  'link': '/BvUQXO_lf4U/',\n",
       "  'likes/views': '3,208,249',\n",
       "  'age': 'MARCH 22',\n",
       "  'comment': 'This is what it looks like to be a two-time figure skating Olympic medalist. @jmedvedevaj #justdoit'},\n",
       " {'user': 'nike',\n",
       "  'link': '/BvRrKwJFBE0/',\n",
       "  'likes/views': '4,373,320',\n",
       "  'age': 'MARCH 21',\n",
       "  'comment': \"@jmedvedevaj: Dream Crazier\\n\\n“The most important thing for me is to do everything from the heart.”\\n⠀\\nEvgenia Medvedeva’s crazy dream isn’t to win a world championship. She’s done that, twice. It isn’t to make it to the Olympics. She’s brought home two medals. It isn’t even to break a world record. Because she’s already shattered one.\\n⠀\\nEvgenia’s crazy dream isn’t an accolade or accomplishment. It isn't written in a record book. It’s written on her heart. #justdoit\"},\n",
       " {'user': 'nike',\n",
       "  'link': '/Bu_rd68FHHC/',\n",
       "  'likes/views': '2,347,921',\n",
       "  'age': 'MARCH 14',\n",
       "  'comment': 'Sam Kerr: Birthplace of Dreams\\n\\nSam Kerr\\nFour Time Golden Boot Winner\\nPerth Australia\\n\\nIntroducing Birthplace of Dreams. Stream the series premiere featuring @samanthakerr20 on IGTV now. #justdoit'},\n",
       " {'user': 'nike',\n",
       "  'link': '/Bu4B_qBlVGY/',\n",
       "  'likes/views': '369,892 likes',\n",
       "  'age': 'MARCH 11',\n",
       "  'comment': '“World’s greatest selfie? I’d like to think so.” — @samanthakerr20\\n⠀\\nFirst, find a crazy dream. Then, find the others whose dreams are just as crazy. #justdoit'},\n",
       " {'user': 'nike',\n",
       "  'link': '/BurC0_eFmS4/',\n",
       "  'likes/views': '2,317,098',\n",
       "  'age': 'MARCH 6',\n",
       "  'comment': 'Ayesha McGowan: Dream Crazier\\n\\n“At the end of the day, it’s all about opportunity. My goal is to knock down the door.” @ayesuppose\\n⠀\\nAyesha McGowan’s crazy dream isn’t just for her. It’s for an entire generation of black women who come after her. #justdoit'},\n",
       " {'user': 'nike',\n",
       "  'link': '/BumKZitF_0E/',\n",
       "  'likes/views': '3,685,568',\n",
       "  'age': 'MARCH 4',\n",
       "  'comment': 'The Honeybeez: Dream Crazier\\n\\n“Any dream is possible. If you just want this crazy dream to happen, you just have to put the work in.\"\\n⠀\\nYou know what some people consider a crazy dream? A body positive world. One that\\'s full of confidence. A world that’s dripping in self-love.\\n⠀\\nBut that’s the \"crazy” world that Montgomery’s Honeybeez are fighting for. #justdoit'}]"
      ]
     },
     "execution_count": 8,
     "metadata": {},
     "output_type": "execute_result"
    }
   ],
   "source": [
    "nike_urls = recent_25_posts('nike')\n",
    "nike_post_info = insta_details(nike_urls)"
   ]
  },
  {
   "cell_type": "code",
   "execution_count": 18,
   "metadata": {},
   "outputs": [],
   "source": [
    "#pickle.dump(nike_post_info, open('data/raw_data/nike.pkl', 'wb'))"
   ]
  },
  {
   "cell_type": "code",
   "execution_count": 10,
   "metadata": {},
   "outputs": [],
   "source": [
    "buttigieg_urls = recent_25_posts('pete.buttigieg')\n",
    "buttigieg_post_info = insta_details(buttigieg_urls)"
   ]
  },
  {
   "cell_type": "code",
   "execution_count": 19,
   "metadata": {},
   "outputs": [],
   "source": [
    "#pickle.dump(buttigieg_post_info, open('data/raw_data/buttigieg.pkl', 'wb'))"
   ]
  },
  {
   "cell_type": "code",
   "execution_count": 3,
   "metadata": {},
   "outputs": [],
   "source": [
    "kardash_urls = recent_25_posts('kourtneykardash')\n",
    "kardash_post_info = insta_details(kardash_urls)"
   ]
  },
  {
   "cell_type": "code",
   "execution_count": 21,
   "metadata": {},
   "outputs": [],
   "source": [
    "#pickle.dump(kardash_post_info, open('data/raw_data/kourtkardash.pkl', 'wb'))"
   ]
  },
  {
   "cell_type": "code",
   "execution_count": 22,
   "metadata": {},
   "outputs": [],
   "source": [
    "lin_urls = recent_25_posts('lin_leelovesfashion')\n",
    "lin_post_info = insta_details(lin_urls)"
   ]
  },
  {
   "cell_type": "code",
   "execution_count": 23,
   "metadata": {},
   "outputs": [],
   "source": [
    "#pickle.dump(lin_post_info, open('data/raw_data/lin.pkl', 'wb'))"
   ]
  },
  {
   "cell_type": "code",
   "execution_count": null,
   "metadata": {},
   "outputs": [],
   "source": [
    "beto_urls = recent_25_posts('betoorourke')\n",
    "beto_post_info = insta_details(beto_urls)"
   ]
  },
  {
   "cell_type": "code",
   "execution_count": 4,
   "metadata": {},
   "outputs": [],
   "source": [
    "#pickle.dump(beto_post_info, open('data/raw_data/beto.pkl', 'wb'))"
   ]
  },
  {
   "cell_type": "code",
   "execution_count": 8,
   "metadata": {},
   "outputs": [],
   "source": [
    "abby_urls = recent_25_posts('abbycorkins')\n",
    "abby_post_info = insta_details(abby_urls)"
   ]
  },
  {
   "cell_type": "code",
   "execution_count": 10,
   "metadata": {},
   "outputs": [],
   "source": [
    "#pickle.dump(abby_post_info, open('data/raw_data/abby.pkl', 'wb'))"
   ]
  },
  {
   "cell_type": "code",
   "execution_count": 12,
   "metadata": {},
   "outputs": [],
   "source": [
    "chris_urls = recent_25_posts('chrisburkard')\n",
    "chris_post_info = insta_details(chris_urls)"
   ]
  },
  {
   "cell_type": "code",
   "execution_count": 13,
   "metadata": {},
   "outputs": [],
   "source": [
    "#pickle.dump(chris_post_info, open('data/raw_data/chris_burkard.pkl', 'wb'))"
   ]
  },
  {
   "cell_type": "code",
   "execution_count": 14,
   "metadata": {},
   "outputs": [],
   "source": [
    "hannah_brown_urls = recent_25_posts('alabamahannah')\n",
    "hannah_brown_post_info = insta_details(hannah_brown_urls)"
   ]
  },
  {
   "cell_type": "code",
   "execution_count": 15,
   "metadata": {},
   "outputs": [],
   "source": [
    "#pickle.dump(hannah_brown_post_info, open('data/raw_data/hannah_brown.pkl', 'wb'))"
   ]
  },
  {
   "cell_type": "code",
   "execution_count": 16,
   "metadata": {},
   "outputs": [],
   "source": [
    "gary_vee_urls = recent_25_posts('garyvee')\n",
    "gary_vee_post_info = insta_details(gary_vee_urls)"
   ]
  },
  {
   "cell_type": "code",
   "execution_count": 17,
   "metadata": {},
   "outputs": [],
   "source": [
    "#pickle.dump(gary_vee_post_info, open('data/raw_data/gary_vee.pkl', 'wb'))"
   ]
  },
  {
   "cell_type": "code",
   "execution_count": 18,
   "metadata": {},
   "outputs": [],
   "source": [
    "dr_mike_urls = recent_25_posts('doctor.mike')\n",
    "dr_mike_post_info = insta_details(dr_mike_urls)"
   ]
  },
  {
   "cell_type": "code",
   "execution_count": 19,
   "metadata": {},
   "outputs": [],
   "source": [
    "#pickle.dump(dr_mike_post_info, open('data/raw_data/dr_mike.pkl', 'wb'))"
   ]
  },
  {
   "cell_type": "code",
   "execution_count": 20,
   "metadata": {},
   "outputs": [],
   "source": [
    "dealcasino_urls = recent_25_posts('_dealcasino_')\n",
    "dealcasino_info = insta_details(dealcasino_urls)"
   ]
  },
  {
   "cell_type": "code",
   "execution_count": 22,
   "metadata": {},
   "outputs": [],
   "source": [
    "#pickle.dump(dealcasino_info, open('data/raw_data/dealcasino.pkl', 'wb'))"
   ]
  },
  {
   "cell_type": "code",
   "execution_count": 2,
   "metadata": {},
   "outputs": [],
   "source": [
    "jonas_bros_urls = recent_25_posts('jonasbrothers')\n",
    "jonas_bros_post_info = insta_details(jonas_bros_urls)"
   ]
  },
  {
   "cell_type": "code",
   "execution_count": 3,
   "metadata": {},
   "outputs": [],
   "source": [
    "#pickle.dump(jonas_bros_post_info, open('data/raw_data/jonas_bros.pkl', 'wb'))"
   ]
  },
  {
   "cell_type": "code",
   "execution_count": 4,
   "metadata": {},
   "outputs": [],
   "source": [
    "jerry_seinfeld_urls = recent_25_posts('jerryseinfeld')\n",
    "jerry_seinfeld_post_info = insta_details(jerry_seinfeld_urls)"
   ]
  },
  {
   "cell_type": "code",
   "execution_count": 5,
   "metadata": {},
   "outputs": [],
   "source": [
    "#pickle.dump(jerry_seinfeld_post_info, open('data/raw_data/jerry_seinfeld.pkl', 'wb'))"
   ]
  },
  {
   "cell_type": "code",
   "execution_count": 8,
   "metadata": {},
   "outputs": [],
   "source": [
    "ellen_degen_urls = recent_25_posts('theellenshow')\n",
    "ellen_degen_post_info = insta_details(ellen_degen_urls)"
   ]
  },
  {
   "cell_type": "code",
   "execution_count": 9,
   "metadata": {},
   "outputs": [],
   "source": [
    "#pickle.dump(ellen_degen_post_info, open('data/raw_data/ellen_degen.pkl', 'wb'))"
   ]
  },
  {
   "cell_type": "code",
   "execution_count": 10,
   "metadata": {},
   "outputs": [],
   "source": [
    "bdorts_urls = recent_25_posts('bdorts')\n",
    "bdorts_post_info = insta_details(bdorts_urls)"
   ]
  },
  {
   "cell_type": "code",
   "execution_count": 11,
   "metadata": {},
   "outputs": [],
   "source": [
    "#pickle.dump(bdorts_post_info, open('data/raw_data/bdorts.pkl', 'wb'))"
   ]
  },
  {
   "cell_type": "code",
   "execution_count": 14,
   "metadata": {},
   "outputs": [],
   "source": [
    "ali_wong_urls = recent_25_posts('aliwong')\n",
    "ali_wong_post_info = insta_details(ali_wong_urls)"
   ]
  },
  {
   "cell_type": "code",
   "execution_count": 15,
   "metadata": {},
   "outputs": [],
   "source": [
    "#pickle.dump(ali_wong_post_info, open('data/raw_data/ali_wong.pkl', 'wb'))"
   ]
  },
  {
   "cell_type": "code",
   "execution_count": 16,
   "metadata": {},
   "outputs": [],
   "source": [
    "nikolaj_urls = recent_25_posts('nikolajwilliamcw')\n",
    "nikolaj_post_info = insta_details(nikolaj_urls)"
   ]
  },
  {
   "cell_type": "code",
   "execution_count": 17,
   "metadata": {},
   "outputs": [],
   "source": [
    "#pickle.dump(nikolaj_post_info, open('data/raw_data/nikolaj.pkl', 'wb'))"
   ]
  },
  {
   "cell_type": "code",
   "execution_count": 18,
   "metadata": {},
   "outputs": [],
   "source": [
    "bill_gates_urls = recent_25_posts('thisisbillgates')\n",
    "bill_gates_post_info = insta_details(bill_gates_urls)"
   ]
  },
  {
   "cell_type": "code",
   "execution_count": 19,
   "metadata": {},
   "outputs": [],
   "source": [
    "#pickle.dump(bill_gates_post_info, open('data/raw_data/bill_gates.pkl', 'wb'))"
   ]
  },
  {
   "cell_type": "code",
   "execution_count": 22,
   "metadata": {},
   "outputs": [],
   "source": [
    "jeff_bezos_urls = recent_25_posts('jeffbezos')\n",
    "jeff_bezos_post_info = insta_details(jeff_bezos_urls)"
   ]
  },
  {
   "cell_type": "code",
   "execution_count": 23,
   "metadata": {},
   "outputs": [],
   "source": [
    "#pickle.dump(jeff_bezos_post_info, open('data/raw_data/jeff_bezos.pkl', 'wb'))"
   ]
  },
  {
   "cell_type": "code",
   "execution_count": null,
   "metadata": {},
   "outputs": [],
   "source": []
  }
 ],
 "metadata": {
  "kernelspec": {
   "display_name": "learn-env",
   "language": "python",
   "name": "learn-env"
  },
  "language_info": {
   "codemirror_mode": {
    "name": "ipython",
    "version": 3
   },
   "file_extension": ".py",
   "mimetype": "text/x-python",
   "name": "python",
   "nbconvert_exporter": "python",
   "pygments_lexer": "ipython3",
   "version": "3.6.6"
  }
 },
 "nbformat": 4,
 "nbformat_minor": 2
}

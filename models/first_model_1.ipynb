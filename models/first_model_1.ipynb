{
 "cells": [
  {
   "cell_type": "markdown",
   "metadata": {},
   "source": [
    "##  Import Necessary Libraries"
   ]
  },
  {
   "cell_type": "code",
   "execution_count": 1,
   "metadata": {},
   "outputs": [],
   "source": [
    "import pandas as pd\n",
    "import matplotlib.pyplot as plt\n",
    "%matplotlib inline\n",
    "import numpy as np\n",
    "np.random.seed(0)\n",
    "from nltk import word_tokenize\n",
    "import pickle\n",
    "from tensorflow.keras.preprocessing.sequence import pad_sequences\n",
    "from tensorflow.keras.layers import Input, Dense, LSTM, Embedding\n",
    "from tensorflow.keras.layers import Dropout, Activation, Bidirectional, GlobalMaxPool1D\n",
    "from tensorflow.keras.models import Model, load_model\n",
    "from tensorflow.keras import initializers, regularizers, constraints, optimizers, layers\n",
    "from tensorflow.keras.preprocessing import text, sequence\n",
    "from tensorflow.python.framework import ops"
   ]
  },
  {
   "cell_type": "markdown",
   "metadata": {},
   "source": [
    "## Data Preparation\n",
    "\n",
    "### Load Training DataFrame"
   ]
  },
  {
   "cell_type": "code",
   "execution_count": 2,
   "metadata": {},
   "outputs": [
    {
     "data": {
      "text/html": [
       "<div>\n",
       "<style scoped>\n",
       "    .dataframe tbody tr th:only-of-type {\n",
       "        vertical-align: middle;\n",
       "    }\n",
       "\n",
       "    .dataframe tbody tr th {\n",
       "        vertical-align: top;\n",
       "    }\n",
       "\n",
       "    .dataframe thead th {\n",
       "        text-align: right;\n",
       "    }\n",
       "</style>\n",
       "<table border=\"1\" class=\"dataframe\">\n",
       "  <thead>\n",
       "    <tr style=\"text-align: right;\">\n",
       "      <th></th>\n",
       "      <th>age</th>\n",
       "      <th>comment</th>\n",
       "      <th>likes/views</th>\n",
       "      <th>link</th>\n",
       "      <th>promo</th>\n",
       "      <th>user</th>\n",
       "    </tr>\n",
       "  </thead>\n",
       "  <tbody>\n",
       "    <tr>\n",
       "      <th>0</th>\n",
       "      <td>2 DAYS AGO</td>\n",
       "      <td>found my new favorite park!</td>\n",
       "      <td>405,059 likes</td>\n",
       "      <td>/BytNlrQhRx8/</td>\n",
       "      <td>0</td>\n",
       "      <td>chrissyteigen</td>\n",
       "    </tr>\n",
       "    <tr>\n",
       "      <th>1</th>\n",
       "      <td>3 DAYS AGO</td>\n",
       "      <td>Happy bebe!</td>\n",
       "      <td>1,739,218</td>\n",
       "      <td>/Byqz8uZh73s/</td>\n",
       "      <td>0</td>\n",
       "      <td>chrissyteigen</td>\n",
       "    </tr>\n",
       "    <tr>\n",
       "      <th>2</th>\n",
       "      <td>5 DAYS AGO</td>\n",
       "      <td>coated in a paste of fresh garlic and filled w...</td>\n",
       "      <td>2,931,603</td>\n",
       "      <td>/BymErW1B9eL/</td>\n",
       "      <td>0</td>\n",
       "      <td>chrissyteigen</td>\n",
       "    </tr>\n",
       "    <tr>\n",
       "      <th>3</th>\n",
       "      <td>5 DAYS AGO</td>\n",
       "      <td>this kid</td>\n",
       "      <td>371,095 likes</td>\n",
       "      <td>/Byl-aHjBXFX/</td>\n",
       "      <td>0</td>\n",
       "      <td>chrissyteigen</td>\n",
       "    </tr>\n",
       "    <tr>\n",
       "      <th>4</th>\n",
       "      <td>JUNE 8</td>\n",
       "      <td>home tomorrow 😩</td>\n",
       "      <td>859,039 likes</td>\n",
       "      <td>/ByduG0BB_A3/</td>\n",
       "      <td>0</td>\n",
       "      <td>chrissyteigen</td>\n",
       "    </tr>\n",
       "  </tbody>\n",
       "</table>\n",
       "</div>"
      ],
      "text/plain": [
       "          age                                            comment  \\\n",
       "0  2 DAYS AGO                        found my new favorite park!   \n",
       "1  3 DAYS AGO                                        Happy bebe!   \n",
       "2  5 DAYS AGO  coated in a paste of fresh garlic and filled w...   \n",
       "3  5 DAYS AGO                                           this kid   \n",
       "4      JUNE 8                                    home tomorrow 😩   \n",
       "\n",
       "     likes/views           link  promo           user  \n",
       "0  405,059 likes  /BytNlrQhRx8/      0  chrissyteigen  \n",
       "1      1,739,218  /Byqz8uZh73s/      0  chrissyteigen  \n",
       "2      2,931,603  /BymErW1B9eL/      0  chrissyteigen  \n",
       "3  371,095 likes  /Byl-aHjBXFX/      0  chrissyteigen  \n",
       "4  859,039 likes  /ByduG0BB_A3/      0  chrissyteigen  "
      ]
     },
     "execution_count": 2,
     "metadata": {},
     "output_type": "execute_result"
    }
   ],
   "source": [
    "posts_df = pickle.load(open('../data/training_posts.pkl', 'rb'))\n",
    "posts_df.head()"
   ]
  },
  {
   "cell_type": "code",
   "execution_count": 3,
   "metadata": {},
   "outputs": [
    {
     "data": {
      "text/plain": [
       "(1065, 6)"
      ]
     },
     "execution_count": 3,
     "metadata": {},
     "output_type": "execute_result"
    }
   ],
   "source": [
    "posts_df.shape"
   ]
  },
  {
   "cell_type": "code",
   "execution_count": 4,
   "metadata": {
    "scrolled": true
   },
   "outputs": [
    {
     "data": {
      "text/plain": [
       "0    609\n",
       "1    456\n",
       "Name: promo, dtype: int64"
      ]
     },
     "execution_count": 4,
     "metadata": {},
     "output_type": "execute_result"
    }
   ],
   "source": [
    "posts_df['promo'].value_counts()"
   ]
  },
  {
   "cell_type": "markdown",
   "metadata": {},
   "source": [
    "57% of the training data is labeled as non-promotional captions and 43% of the training data is labeled as promotional material. Due to the fact that this is fairly balanced data, accuracy will be an appropriate metric for evaluation.\n",
    "\n",
    "### Promotional Material By User\n",
    "We want to see the proportion of promotional material by user."
   ]
  },
  {
   "cell_type": "code",
   "execution_count": 5,
   "metadata": {},
   "outputs": [
    {
     "data": {
      "text/plain": [
       "user\n",
       "_dealcasino_     0.68\n",
       "abbycorkins      0.64\n",
       "airbnb           1.00\n",
       "alabamahannah    0.68\n",
       "aliwong          0.80\n",
       "Name: promo, dtype: float64"
      ]
     },
     "execution_count": 5,
     "metadata": {},
     "output_type": "execute_result"
    }
   ],
   "source": [
    "average_promos_by_user = posts_df.groupby('user')['promo'].mean()\n",
    "average_promos_by_user.head()"
   ]
  },
  {
   "cell_type": "code",
   "execution_count": 6,
   "metadata": {},
   "outputs": [
    {
     "data": {
      "image/png": "[encoded data removed]",
      "text/plain": [
       "<Figure size 720x576 with 1 Axes>"
      ]
     },
     "metadata": {
      "needs_background": "light"
     },
     "output_type": "display_data"
    }
   ],
   "source": [
    "plt.figure(figsize=(10,8))\n",
    "plt.xlabel('user')\n",
    "plt.ylabel('percentage of promos')\n",
    "plt.title('Percentage of Promotional Instagram Post From Last 25 Posts')\n",
    "average_promos_by_user.plot.bar();\n"
   ]
  },
  {
   "cell_type": "markdown",
   "metadata": {},
   "source": [
    "The selected users have varying percentage of promotional captions. There are some users (like Nike and Airbnb) that post only promotional material. There are people that never (at least in their most recent posts) have promotional material.\n",
    "\n",
    "### Prepare Comments for Modeling\n"
   ]
  },
  {
   "cell_type": "markdown",
   "metadata": {},
   "source": [
    "Convert target into two classes promotional and non-promotional."
   ]
  },
  {
   "cell_type": "code",
   "execution_count": 7,
   "metadata": {},
   "outputs": [],
   "source": [
    "target = posts_df.promo\n",
    "y = pd.get_dummies(target).values\n"
   ]
  },
  {
   "cell_type": "markdown",
   "metadata": {},
   "source": [
    "Use nltk's word_tokenizer function to transform captions nto a list of words."
   ]
  },
  {
   "cell_type": "code",
   "execution_count": 8,
   "metadata": {},
   "outputs": [],
   "source": [
    "data = posts_df['comment'].map(word_tokenize).values"
   ]
  },
  {
   "cell_type": "code",
   "execution_count": 9,
   "metadata": {},
   "outputs": [
    {
     "name": "stdout",
     "output_type": "stream",
     "text": [
      "There are 8994 unique tokens in our dataset.\n"
     ]
    }
   ],
   "source": [
    "total_vocabulary = set(word for comment in data for word in comment)\n",
    "print(\"There are {} unique tokens in our dataset.\".format(len(total_vocabulary)))"
   ]
  },
  {
   "cell_type": "code",
   "execution_count": 10,
   "metadata": {},
   "outputs": [],
   "source": [
    "tokenizer = text.Tokenizer(num_words=10000)\n",
    "tokenizer.fit_on_texts(list(posts_df.comment))\n",
    "list_tokenized_headlines = tokenizer.texts_to_sequences(posts_df.comment)\n",
    "X_t = sequence.pad_sequences(list_tokenized_headlines, maxlen=100)"
   ]
  },
  {
   "cell_type": "markdown",
   "metadata": {},
   "source": [
    "## Modeling"
   ]
  },
  {
   "cell_type": "code",
   "execution_count": 11,
   "metadata": {},
   "outputs": [],
   "source": [
    "ops.reset_default_graph()"
   ]
  },
  {
   "cell_type": "markdown",
   "metadata": {},
   "source": [
    "Create a neural network that uses an embedding layer at the beginning. We then use a bidirectional, long short term memory layer in hopes of reading the comments in both directions."
   ]
  },
  {
   "cell_type": "code",
   "execution_count": 12,
   "metadata": {},
   "outputs": [],
   "source": [
    "embedding_size = 128\n",
    "input_ = Input(shape=(100,))\n",
    "x = Embedding(10000, embedding_size)(input_)\n",
    "x = Bidirectional(LSTM(25, return_sequences=True))(x)\n",
    "x = GlobalMaxPool1D()(x)\n",
    "x = Dense(50, activation='relu')(x)\n",
    "x = Dropout(0.5)(x)\n",
    "# There are 2 different possible classes, so we use 2 neurons in our output layer\n",
    "x = Dense(2, activation='softmax')(x)\n",
    "\n",
    "model = Model(inputs=input_, outputs=x)"
   ]
  },
  {
   "cell_type": "code",
   "execution_count": 13,
   "metadata": {},
   "outputs": [],
   "source": [
    "model.compile(loss='categorical_crossentropy', optimizer='adam', metrics=['accuracy'])"
   ]
  },
  {
   "cell_type": "code",
   "execution_count": 14,
   "metadata": {},
   "outputs": [
    {
     "name": "stdout",
     "output_type": "stream",
     "text": [
      "Model: \"model\"\n",
      "_________________________________________________________________\n",
      "Layer (type)                 Output Shape              Param #   \n",
      "=================================================================\n",
      "input_1 (InputLayer)         [(None, 100)]             0         \n",
      "_________________________________________________________________\n",
      "embedding (Embedding)        (None, 100, 128)          1280000   \n",
      "_________________________________________________________________\n",
      "bidirectional (Bidirectional (None, 100, 50)           30800     \n",
      "_________________________________________________________________\n",
      "global_max_pooling1d (Global (None, 50)                0         \n",
      "_________________________________________________________________\n",
      "dense (Dense)                (None, 50)                2550      \n",
      "_________________________________________________________________\n",
      "dropout (Dropout)            (None, 50)                0         \n",
      "_________________________________________________________________\n",
      "dense_1 (Dense)              (None, 2)                 102       \n",
      "=================================================================\n",
      "Total params: 1,313,452\n",
      "Trainable params: 1,313,452\n",
      "Non-trainable params: 0\n",
      "_________________________________________________________________\n"
     ]
    }
   ],
   "source": [
    "model.summary()"
   ]
  },
  {
   "cell_type": "code",
   "execution_count": 15,
   "metadata": {},
   "outputs": [
    {
     "name": "stderr",
     "output_type": "stream",
     "text": [
      "WARNING: Logging before flag parsing goes to stderr.\n",
      "W0621 09:56:57.143733 140735550342016 deprecation.py:323] From /Users/kaylischulz/anaconda3/envs/learn-env/lib/python3.6/site-packages/tensorflow/python/ops/math_grad.py:1250: add_dispatch_support.<locals>.wrapper (from tensorflow.python.ops.array_ops) is deprecated and will be removed in a future version.\n",
      "Instructions for updating:\n",
      "Use tf.where in 2.0, which has the same broadcast rule as np.where\n"
     ]
    },
    {
     "name": "stdout",
     "output_type": "stream",
     "text": [
      "Train on 958 samples, validate on 107 samples\n",
      "Epoch 1/2\n",
      "958/958 [==============================] - 4s 5ms/sample - loss: 0.6863 - accuracy: 0.5616 - val_loss: 0.6664 - val_accuracy: 0.6075\n",
      "Epoch 2/2\n",
      "958/958 [==============================] - 3s 3ms/sample - loss: 0.6551 - accuracy: 0.6242 - val_loss: 0.6427 - val_accuracy: 0.6168\n"
     ]
    },
    {
     "data": {
      "text/plain": [
       "<tensorflow.python.keras.callbacks.History at 0x1a348486a0>"
      ]
     },
     "execution_count": 15,
     "metadata": {},
     "output_type": "execute_result"
    }
   ],
   "source": [
    "model.fit(X_t, y, epochs=2, batch_size=32, validation_split=0.1)"
   ]
  },
  {
   "cell_type": "code",
   "execution_count": 16,
   "metadata": {},
   "outputs": [
    {
     "name": "stdout",
     "output_type": "stream",
     "text": [
      "Train on 958 samples, validate on 107 samples\n",
      "Epoch 1/10\n",
      "958/958 [==============================] - 3s 3ms/sample - loss: 0.4813 - accuracy: 0.8267 - val_loss: 1.0862 - val_accuracy: 0.4486\n",
      "Epoch 2/10\n",
      "958/958 [==============================] - 3s 3ms/sample - loss: 0.3009 - accuracy: 0.8904 - val_loss: 0.7257 - val_accuracy: 0.6729\n",
      "Epoch 3/10\n",
      "958/958 [==============================] - 3s 3ms/sample - loss: 0.1328 - accuracy: 0.9676 - val_loss: 0.8563 - val_accuracy: 0.7103\n",
      "Epoch 4/10\n",
      "958/958 [==============================] - 3s 3ms/sample - loss: 0.0551 - accuracy: 0.9906 - val_loss: 1.0347 - val_accuracy: 0.7290\n",
      "Epoch 5/10\n",
      "958/958 [==============================] - 3s 3ms/sample - loss: 0.0239 - accuracy: 0.9969 - val_loss: 0.9901 - val_accuracy: 0.7664\n",
      "Epoch 6/10\n",
      "958/958 [==============================] - 2s 3ms/sample - loss: 0.0088 - accuracy: 0.9990 - val_loss: 1.1284 - val_accuracy: 0.7477\n",
      "Epoch 7/10\n",
      "958/958 [==============================] - 3s 3ms/sample - loss: 0.0050 - accuracy: 1.0000 - val_loss: 1.1498 - val_accuracy: 0.7944\n",
      "Epoch 8/10\n",
      "958/958 [==============================] - 3s 3ms/sample - loss: 0.0042 - accuracy: 1.0000 - val_loss: 1.2263 - val_accuracy: 0.7944\n",
      "Epoch 9/10\n",
      "958/958 [==============================] - 3s 3ms/sample - loss: 0.0026 - accuracy: 1.0000 - val_loss: 1.3411 - val_accuracy: 0.7850\n",
      "Epoch 10/10\n",
      "958/958 [==============================] - 3s 3ms/sample - loss: 0.0020 - accuracy: 1.0000 - val_loss: 1.4252 - val_accuracy: 0.7757\n"
     ]
    },
    {
     "data": {
      "text/plain": [
       "<tensorflow.python.keras.callbacks.History at 0x117d1c9e8>"
      ]
     },
     "execution_count": 16,
     "metadata": {},
     "output_type": "execute_result"
    }
   ],
   "source": [
    "model.fit(X_t, y, epochs=10, batch_size=32, validation_split=0.1)"
   ]
  },
  {
   "cell_type": "markdown",
   "metadata": {},
   "source": [
    "### Load testing dataframe\n",
    "\n",
    "Tokenize comments using the same tokenizer that we fit on the training data. Also dummy the y-variable in the same manner as the training data."
   ]
  },
  {
   "cell_type": "code",
   "execution_count": 17,
   "metadata": {},
   "outputs": [
    {
     "data": {
      "text/html": [
       "<div>\n",
       "<style scoped>\n",
       "    .dataframe tbody tr th:only-of-type {\n",
       "        vertical-align: middle;\n",
       "    }\n",
       "\n",
       "    .dataframe tbody tr th {\n",
       "        vertical-align: top;\n",
       "    }\n",
       "\n",
       "    .dataframe thead th {\n",
       "        text-align: right;\n",
       "    }\n",
       "</style>\n",
       "<table border=\"1\" class=\"dataframe\">\n",
       "  <thead>\n",
       "    <tr style=\"text-align: right;\">\n",
       "      <th></th>\n",
       "      <th>age</th>\n",
       "      <th>comment</th>\n",
       "      <th>likes/views</th>\n",
       "      <th>link</th>\n",
       "      <th>promo</th>\n",
       "      <th>user</th>\n",
       "    </tr>\n",
       "  </thead>\n",
       "  <tbody>\n",
       "    <tr>\n",
       "      <th>0</th>\n",
       "      <td>7 HOURS AGO</td>\n",
       "      <td>Summer is a great time to freshen up the kids’...</td>\n",
       "      <td>99,928 likes</td>\n",
       "      <td>/By2uv66lhLI/</td>\n",
       "      <td>1</td>\n",
       "      <td>joannagaines</td>\n",
       "    </tr>\n",
       "    <tr>\n",
       "      <th>1</th>\n",
       "      <td>1 DAY AGO</td>\n",
       "      <td>They all look up to you so much @chipgaines Yo...</td>\n",
       "      <td>421,056 likes</td>\n",
       "      <td>/Byy6YMplLMb/</td>\n",
       "      <td>0</td>\n",
       "      <td>joannagaines</td>\n",
       "    </tr>\n",
       "    <tr>\n",
       "      <th>2</th>\n",
       "      <td>2 DAYS AGO</td>\n",
       "      <td>Happy Father's Day to the plant daddy of all p...</td>\n",
       "      <td>253,574 likes</td>\n",
       "      <td>/ByyNXAuFuQs/</td>\n",
       "      <td>0</td>\n",
       "      <td>joannagaines</td>\n",
       "    </tr>\n",
       "    <tr>\n",
       "      <th>3</th>\n",
       "      <td>6 DAYS AGO</td>\n",
       "      <td>Y’all really stepped up to the #ChipInChalleng...</td>\n",
       "      <td>257,060 likes</td>\n",
       "      <td>/ByoEp79lJYX/</td>\n",
       "      <td>0</td>\n",
       "      <td>joannagaines</td>\n",
       "    </tr>\n",
       "    <tr>\n",
       "      <th>4</th>\n",
       "      <td>7 DAYS AGO</td>\n",
       "      <td>One more push y’all! We have til midnight CT t...</td>\n",
       "      <td>176,897 likes</td>\n",
       "      <td>/ByleDigFgFA/</td>\n",
       "      <td>1</td>\n",
       "      <td>joannagaines</td>\n",
       "    </tr>\n",
       "  </tbody>\n",
       "</table>\n",
       "</div>"
      ],
      "text/plain": [
       "           age                                            comment  \\\n",
       "0  7 HOURS AGO  Summer is a great time to freshen up the kids’...   \n",
       "1    1 DAY AGO  They all look up to you so much @chipgaines Yo...   \n",
       "2   2 DAYS AGO  Happy Father's Day to the plant daddy of all p...   \n",
       "3   6 DAYS AGO  Y’all really stepped up to the #ChipInChalleng...   \n",
       "4   7 DAYS AGO  One more push y’all! We have til midnight CT t...   \n",
       "\n",
       "     likes/views           link  promo          user  \n",
       "0   99,928 likes  /By2uv66lhLI/      1  joannagaines  \n",
       "1  421,056 likes  /Byy6YMplLMb/      0  joannagaines  \n",
       "2  253,574 likes  /ByyNXAuFuQs/      0  joannagaines  \n",
       "3  257,060 likes  /ByoEp79lJYX/      0  joannagaines  \n",
       "4  176,897 likes  /ByleDigFgFA/      1  joannagaines  "
      ]
     },
     "execution_count": 17,
     "metadata": {},
     "output_type": "execute_result"
    }
   ],
   "source": [
    "test_df = pickle.load(open('../data/testing_posts.pkl', 'rb'))\n",
    "test_df.head()"
   ]
  },
  {
   "cell_type": "code",
   "execution_count": 18,
   "metadata": {},
   "outputs": [],
   "source": [
    "list_tokenized_headlines = tokenizer.texts_to_sequences(test_df['comment'].map(word_tokenize).values)\n",
    "testing_X = sequence.pad_sequences(list_tokenized_headlines, maxlen=100)"
   ]
  },
  {
   "cell_type": "code",
   "execution_count": 19,
   "metadata": {},
   "outputs": [],
   "source": [
    "testing_y = pd.get_dummies(test_df['promo']).values"
   ]
  },
  {
   "cell_type": "markdown",
   "metadata": {},
   "source": [
    "## Evaluation"
   ]
  },
  {
   "cell_type": "markdown",
   "metadata": {},
   "source": [
    "Evaluate the model using the testing data."
   ]
  },
  {
   "cell_type": "code",
   "execution_count": 20,
   "metadata": {},
   "outputs": [
    {
     "name": "stdout",
     "output_type": "stream",
     "text": [
      "248/248 [==============================] - 0s 2ms/sample - loss: 1.9763 - accuracy: 0.6774\n"
     ]
    },
    {
     "data": {
      "text/plain": [
       "[1.9762678953909105, 0.67741936]"
      ]
     },
     "execution_count": 20,
     "metadata": {},
     "output_type": "execute_result"
    }
   ],
   "source": [
    "model.evaluate(testing_X, testing_y, verbose=True)"
   ]
  },
  {
   "cell_type": "markdown",
   "metadata": {},
   "source": [
    "Our model has an accuracy of about 70%.\n",
    "Our initial model is saved for reproducibility and for the flask app."
   ]
  },
  {
   "cell_type": "code",
   "execution_count": 21,
   "metadata": {},
   "outputs": [],
   "source": [
    "# model.save('../instagram_flask/final_model.hdf5')"
   ]
  },
  {
   "cell_type": "code",
   "execution_count": 22,
   "metadata": {},
   "outputs": [],
   "source": [
    "# delete the unsaved-model\n",
    "del model\n",
    "\n",
    "model = load_model(\"../instagram_flask/final_model.hdf5\")"
   ]
  },
  {
   "cell_type": "markdown",
   "metadata": {},
   "source": [
    "### Exploration of Predictions\n",
    "\n",
    "We want to see what our model was getting correct and incorrect. First we start by getting the predicted probabilities for each testing post and added these predictions to the dataframe."
   ]
  },
  {
   "cell_type": "code",
   "execution_count": 23,
   "metadata": {},
   "outputs": [],
   "source": [
    "predictions = model.predict(testing_X).round(2)"
   ]
  },
  {
   "cell_type": "code",
   "execution_count": 24,
   "metadata": {},
   "outputs": [
    {
     "data": {
      "text/html": [
       "<div>\n",
       "<style scoped>\n",
       "    .dataframe tbody tr th:only-of-type {\n",
       "        vertical-align: middle;\n",
       "    }\n",
       "\n",
       "    .dataframe tbody tr th {\n",
       "        vertical-align: top;\n",
       "    }\n",
       "\n",
       "    .dataframe thead th {\n",
       "        text-align: right;\n",
       "    }\n",
       "</style>\n",
       "<table border=\"1\" class=\"dataframe\">\n",
       "  <thead>\n",
       "    <tr style=\"text-align: right;\">\n",
       "      <th></th>\n",
       "      <th>comment</th>\n",
       "      <th>promo</th>\n",
       "      <th>pred_not_promo</th>\n",
       "      <th>pred_promo</th>\n",
       "    </tr>\n",
       "  </thead>\n",
       "  <tbody>\n",
       "    <tr>\n",
       "      <th>0</th>\n",
       "      <td>Summer is a great time to freshen up the kids’...</td>\n",
       "      <td>1</td>\n",
       "      <td>0.0</td>\n",
       "      <td>1.0</td>\n",
       "    </tr>\n",
       "    <tr>\n",
       "      <th>1</th>\n",
       "      <td>They all look up to you so much @chipgaines Yo...</td>\n",
       "      <td>0</td>\n",
       "      <td>1.0</td>\n",
       "      <td>0.0</td>\n",
       "    </tr>\n",
       "    <tr>\n",
       "      <th>2</th>\n",
       "      <td>Happy Father's Day to the plant daddy of all p...</td>\n",
       "      <td>0</td>\n",
       "      <td>1.0</td>\n",
       "      <td>0.0</td>\n",
       "    </tr>\n",
       "    <tr>\n",
       "      <th>3</th>\n",
       "      <td>Y’all really stepped up to the #ChipInChalleng...</td>\n",
       "      <td>0</td>\n",
       "      <td>0.0</td>\n",
       "      <td>1.0</td>\n",
       "    </tr>\n",
       "    <tr>\n",
       "      <th>4</th>\n",
       "      <td>One more push y’all! We have til midnight CT t...</td>\n",
       "      <td>1</td>\n",
       "      <td>0.0</td>\n",
       "      <td>1.0</td>\n",
       "    </tr>\n",
       "  </tbody>\n",
       "</table>\n",
       "</div>"
      ],
      "text/plain": [
       "                                             comment  promo  pred_not_promo  \\\n",
       "0  Summer is a great time to freshen up the kids’...      1             0.0   \n",
       "1  They all look up to you so much @chipgaines Yo...      0             1.0   \n",
       "2  Happy Father's Day to the plant daddy of all p...      0             1.0   \n",
       "3  Y’all really stepped up to the #ChipInChalleng...      0             0.0   \n",
       "4  One more push y’all! We have til midnight CT t...      1             0.0   \n",
       "\n",
       "   pred_promo  \n",
       "0         1.0  \n",
       "1         0.0  \n",
       "2         0.0  \n",
       "3         1.0  \n",
       "4         1.0  "
      ]
     },
     "execution_count": 24,
     "metadata": {},
     "output_type": "execute_result"
    }
   ],
   "source": [
    "predictions_df = pd.DataFrame(predictions, columns=['pred_not_promo', 'pred_promo'])\n",
    "simple_test = test_df[['comment', 'promo']]\n",
    "combined_posts_df = pd.concat((simple_test, predictions_df), axis=1)\n",
    "combined_posts_df.head()"
   ]
  },
  {
   "cell_type": "markdown",
   "metadata": {},
   "source": [
    "Create a new column that represents the highest predicted class. If the predicted promo is over 50% that it is class 1, and if it is less than or equal to 50% it predicted not promotional (0)"
   ]
  },
  {
   "cell_type": "code",
   "execution_count": 25,
   "metadata": {},
   "outputs": [
    {
     "data": {
      "text/html": [
       "<div>\n",
       "<style scoped>\n",
       "    .dataframe tbody tr th:only-of-type {\n",
       "        vertical-align: middle;\n",
       "    }\n",
       "\n",
       "    .dataframe tbody tr th {\n",
       "        vertical-align: top;\n",
       "    }\n",
       "\n",
       "    .dataframe thead th {\n",
       "        text-align: right;\n",
       "    }\n",
       "</style>\n",
       "<table border=\"1\" class=\"dataframe\">\n",
       "  <thead>\n",
       "    <tr style=\"text-align: right;\">\n",
       "      <th></th>\n",
       "      <th>comment</th>\n",
       "      <th>promo</th>\n",
       "      <th>pred_not_promo</th>\n",
       "      <th>pred_promo</th>\n",
       "      <th>model_predicts</th>\n",
       "    </tr>\n",
       "  </thead>\n",
       "  <tbody>\n",
       "    <tr>\n",
       "      <th>0</th>\n",
       "      <td>Summer is a great time to freshen up the kids’...</td>\n",
       "      <td>1</td>\n",
       "      <td>0.0</td>\n",
       "      <td>1.0</td>\n",
       "      <td>1</td>\n",
       "    </tr>\n",
       "    <tr>\n",
       "      <th>1</th>\n",
       "      <td>They all look up to you so much @chipgaines Yo...</td>\n",
       "      <td>0</td>\n",
       "      <td>1.0</td>\n",
       "      <td>0.0</td>\n",
       "      <td>0</td>\n",
       "    </tr>\n",
       "    <tr>\n",
       "      <th>2</th>\n",
       "      <td>Happy Father's Day to the plant daddy of all p...</td>\n",
       "      <td>0</td>\n",
       "      <td>1.0</td>\n",
       "      <td>0.0</td>\n",
       "      <td>0</td>\n",
       "    </tr>\n",
       "    <tr>\n",
       "      <th>3</th>\n",
       "      <td>Y’all really stepped up to the #ChipInChalleng...</td>\n",
       "      <td>0</td>\n",
       "      <td>0.0</td>\n",
       "      <td>1.0</td>\n",
       "      <td>1</td>\n",
       "    </tr>\n",
       "    <tr>\n",
       "      <th>4</th>\n",
       "      <td>One more push y’all! We have til midnight CT t...</td>\n",
       "      <td>1</td>\n",
       "      <td>0.0</td>\n",
       "      <td>1.0</td>\n",
       "      <td>1</td>\n",
       "    </tr>\n",
       "  </tbody>\n",
       "</table>\n",
       "</div>"
      ],
      "text/plain": [
       "                                             comment  promo  pred_not_promo  \\\n",
       "0  Summer is a great time to freshen up the kids’...      1             0.0   \n",
       "1  They all look up to you so much @chipgaines Yo...      0             1.0   \n",
       "2  Happy Father's Day to the plant daddy of all p...      0             1.0   \n",
       "3  Y’all really stepped up to the #ChipInChalleng...      0             0.0   \n",
       "4  One more push y’all! We have til midnight CT t...      1             0.0   \n",
       "\n",
       "   pred_promo  model_predicts  \n",
       "0         1.0               1  \n",
       "1         0.0               0  \n",
       "2         0.0               0  \n",
       "3         1.0               1  \n",
       "4         1.0               1  "
      ]
     },
     "execution_count": 25,
     "metadata": {},
     "output_type": "execute_result"
    }
   ],
   "source": [
    "model_predicts = []\n",
    "for row in range(len(combined_posts_df)):\n",
    "    pred_promo = combined_posts_df['pred_promo'][row]\n",
    "    pred_not_promo = combined_posts_df['pred_not_promo'][row]\n",
    "    if pred_promo > pred_not_promo:\n",
    "        model_predicts.append(1)\n",
    "    else:\n",
    "        model_predicts.append(0)\n",
    "\n",
    "combined_posts_df['model_predicts'] = model_predicts\n",
    "combined_posts_df.head()"
   ]
  },
  {
   "cell_type": "markdown",
   "metadata": {},
   "source": [
    "Add another column to the dataframe that gives a boolean value for correctness."
   ]
  },
  {
   "cell_type": "code",
   "execution_count": 26,
   "metadata": {},
   "outputs": [
    {
     "data": {
      "text/html": [
       "<div>\n",
       "<style scoped>\n",
       "    .dataframe tbody tr th:only-of-type {\n",
       "        vertical-align: middle;\n",
       "    }\n",
       "\n",
       "    .dataframe tbody tr th {\n",
       "        vertical-align: top;\n",
       "    }\n",
       "\n",
       "    .dataframe thead th {\n",
       "        text-align: right;\n",
       "    }\n",
       "</style>\n",
       "<table border=\"1\" class=\"dataframe\">\n",
       "  <thead>\n",
       "    <tr style=\"text-align: right;\">\n",
       "      <th></th>\n",
       "      <th>comment</th>\n",
       "      <th>promo</th>\n",
       "      <th>pred_not_promo</th>\n",
       "      <th>pred_promo</th>\n",
       "      <th>model_predicts</th>\n",
       "      <th>correct</th>\n",
       "    </tr>\n",
       "  </thead>\n",
       "  <tbody>\n",
       "    <tr>\n",
       "      <th>0</th>\n",
       "      <td>Summer is a great time to freshen up the kids’...</td>\n",
       "      <td>1</td>\n",
       "      <td>0.0</td>\n",
       "      <td>1.0</td>\n",
       "      <td>1</td>\n",
       "      <td>True</td>\n",
       "    </tr>\n",
       "    <tr>\n",
       "      <th>1</th>\n",
       "      <td>They all look up to you so much @chipgaines Yo...</td>\n",
       "      <td>0</td>\n",
       "      <td>1.0</td>\n",
       "      <td>0.0</td>\n",
       "      <td>0</td>\n",
       "      <td>True</td>\n",
       "    </tr>\n",
       "    <tr>\n",
       "      <th>2</th>\n",
       "      <td>Happy Father's Day to the plant daddy of all p...</td>\n",
       "      <td>0</td>\n",
       "      <td>1.0</td>\n",
       "      <td>0.0</td>\n",
       "      <td>0</td>\n",
       "      <td>True</td>\n",
       "    </tr>\n",
       "    <tr>\n",
       "      <th>3</th>\n",
       "      <td>Y’all really stepped up to the #ChipInChalleng...</td>\n",
       "      <td>0</td>\n",
       "      <td>0.0</td>\n",
       "      <td>1.0</td>\n",
       "      <td>1</td>\n",
       "      <td>False</td>\n",
       "    </tr>\n",
       "    <tr>\n",
       "      <th>4</th>\n",
       "      <td>One more push y’all! We have til midnight CT t...</td>\n",
       "      <td>1</td>\n",
       "      <td>0.0</td>\n",
       "      <td>1.0</td>\n",
       "      <td>1</td>\n",
       "      <td>True</td>\n",
       "    </tr>\n",
       "  </tbody>\n",
       "</table>\n",
       "</div>"
      ],
      "text/plain": [
       "                                             comment  promo  pred_not_promo  \\\n",
       "0  Summer is a great time to freshen up the kids’...      1             0.0   \n",
       "1  They all look up to you so much @chipgaines Yo...      0             1.0   \n",
       "2  Happy Father's Day to the plant daddy of all p...      0             1.0   \n",
       "3  Y’all really stepped up to the #ChipInChalleng...      0             0.0   \n",
       "4  One more push y’all! We have til midnight CT t...      1             0.0   \n",
       "\n",
       "   pred_promo  model_predicts  correct  \n",
       "0         1.0               1     True  \n",
       "1         0.0               0     True  \n",
       "2         0.0               0     True  \n",
       "3         1.0               1    False  \n",
       "4         1.0               1     True  "
      ]
     },
     "execution_count": 26,
     "metadata": {},
     "output_type": "execute_result"
    }
   ],
   "source": [
    "correct_pred = []\n",
    "for row in range(len(combined_posts_df)):\n",
    "    true_class = combined_posts_df['promo'][row]\n",
    "    model_pred = combined_posts_df['model_predicts'][row]\n",
    "    if true_class == model_pred:\n",
    "        correct_pred.append(True)\n",
    "    else:\n",
    "        correct_pred.append(False)\n",
    "\n",
    "combined_posts_df['correct'] = correct_pred\n",
    "combined_posts_df.head()"
   ]
  },
  {
   "cell_type": "markdown",
   "metadata": {},
   "source": [
    "View the predictions that it got wrong."
   ]
  },
  {
   "cell_type": "code",
   "execution_count": 27,
   "metadata": {},
   "outputs": [],
   "source": [
    "false_predictions = combined_posts_df.loc[combined_posts_df['correct'] == False]"
   ]
  },
  {
   "cell_type": "code",
   "execution_count": 28,
   "metadata": {},
   "outputs": [
    {
     "data": {
      "text/plain": [
       "[('Y’all really stepped up to the #ChipInChallenge and together we raised over $2 million for the fight against cancer! We go to @StJude next week and can’t wait to see the precious kids and present them with a check for $1.49 million from all of you. On top of that, $512,000 is going to our dear friend Gabe’s foundation, @bravelikegabe. She will forever inspire us to be brave. ❤️ Thank you ALL for chipping in with us! #NotTodayCancer',\n",
       "  0),\n",
       " ('When @chipgaines and I got the chance to meet some of the kids at @stjude a couple of years ago, we walked away completely changed. These kids were so full of joy and hope—I’ll never forget it. That year, you all helped us raise $230,000 for those kids, and we want to do it again—but go even bigger! We’ve pulled a team together to help us with what we’re calling the #ChipInChallenge, and we hope you’ll be a part of helping us change lives. Head over to the link in profile to find out how you can help.',\n",
       "  1),\n",
       " ('She is the most intentional, loyal and fierce woman I know. She is small but mighty and she opens her arms wide for so many. Thank you mom for your extravagant love. I love you❤️ \"She is clothed with strength and dignity and laughs at the days to come. She speaks with wisdom, and faithful instruction is on her tongue. She watches over the affairs of her household, and does not eat the bread of idleness. Her children arise and call her blessed. Many women do noble things, but you surpass them all.\" Prov 31',\n",
       "  0),\n",
       " (\"We just finished construction on this beauty and I'm loving all the storage and space in this home. Excited for the lovely family that is moving in next month! #welcomehome @magnoliarealtytexas\",\n",
       "  1),\n",
       " (\"We are so thankful for and blown away by each and every runner who participated in this year's #silodistrictmarathon . Watching the grit, the fight, and the spirit of these runners left me speechless. So many of you would tell me who you were running in honor of and I was literally teary eyed the entire time. Thanks for running with us this year- you helped raise $300k for cancer research and the @bravelikegabe foundation. I was also so proud of @chipgaines and Ella (and baby Crew) for running the half marathon today and killing it! Finally, thank you to the city of Waco and all the law enforcement, volunteers and sponsors that helped make this event possible. We hope to see you next year at the #silodistrictmarathon 🏅\",\n",
       "  0),\n",
       " ('Race weekend is finally here and we are ready! To all the runners and families- Welcome to town! 🙌🏽#silosdistrictmarathon @magnolia',\n",
       "  0),\n",
       " ('Thanks @anthonyvaccarello @ysl for having us last night. Performance by @cher was next level epic. @metmuseum',\n",
       "  0),\n",
       " ('@ysl @anthonyvaccarello 📸 @chriscolls', 1),\n",
       " ('Thanks for the funky shoot @gqaustralia had a great time wearing a colorful array of expensive clothing ;) 📸 @carterbedloesmith / stylist @atvottero',\n",
       "  1),\n",
       " ('Thanks for the funky shoot @gqaustralia had a great time wearing a colorful array of expensive clothing ;) 📸 @carterbedloesmith / stylist @atvottero',\n",
       "  1),\n",
       " ('Been messing around with the @redhydrogen camera. Super fun. Check out some of the pics I put on holowpix in 4V. It’s really spicy 🌶😎',\n",
       "  0),\n",
       " ('Sorry I couldn’t make it to the @isntitromantic premier tonight guys. Been dealing with some pretty annoying health stuff the last couple days. Lucky I have the best girl in the world to represent for me! Thanks for the support babe! I hope everyone enjoys the movie! It’s a perfect Valentine’s Day flick so if ya ain’t got nothin better to do then go see it! Love to all!',\n",
       "  1),\n",
       " ('It’s been a heartbreaking few days. This is what’s left of my house. Love. Many people in Malibu and surrounding areas in California have lost their homes also and my heart goes out to everyone who was affected by these fires. I spent the day in Malibu yesterday and it was amazing to see the community pulling together to help each other out in any way they can. Malibu is a strong community and this event is only going to make it stronger. Thankful for the all the great local guys that helped keep smaller fires out around my property. I love u guys. I love you Malibu. Thank you to all the hero firefighters around California. It’s going to be a journey to rebuild. Stay strong all. To help/donate visit @malibufoundation and @happyhippiefdn',\n",
       "  1),\n",
       " ('Happy Halloween! Eat your heart out for the first ever “ISN’T IT ROMANTIC” trailer! Valentine’s Day 2019.',\n",
       "  1),\n",
       " ('Please excuse Miley’s foul language. Got her good on this one. Almost felt bad...almost 😎',\n",
       "  0),\n",
       " ('Last night was a huge celebration of @trevorproject 🏳️\\u200d🌈@antoni and I got to award @caradelevingne the hero award for her work and fierce support of the LGBTQ community. The Trevor Project is a 24-7 resource in crisis intervention for LGBTQ young people. We need tools in our toolbox to help deal with youth suicide, depression, isolation, and bullying the list goes on and on. LGBTQ kids are our greatest treasures and must be protected and for that I will always be grateful and support @trevorproject #trevorlive',\n",
       "  0),\n",
       " ('I live for a queen who writes their elected officials 🏳️\\u200d🌈 love the video & thanks for having us @taylorswift',\n",
       "  0),\n",
       " ('Last June 4th, the Supreme Court ruled in favor of a cake shop owner who chose not to bake a wedding cake for a same-sex couple. On the one year anniversary of the reversal, I was honored to partner with @elysianbrewing to officiate a very special wedding. Many happy tears were shed as Megan @meganberrycreative & Haden @bart_arts tied the knot and we cut into six epic cakes alongside the court case couple, Charlie @charliewcraig & David @moofian2 . Cheers to marriage equality and happily ever after for everyone. #MarryUsJVN thanks so much @elysianbrewing for making such a beautiful and celebratory day #pride #ad — A note on this ruling - it’s important to clarify this Supreme Court decision was narrow & does not establish precedent for LGBTQ discrimination in services nationally but rather it specifically reversed the ruling in this case for extenuating circumstances.',\n",
       "  1),\n",
       " ('I’ve been thinking about this a lot lately 🏳️\\u200d🌈 Thanks @fransquishco for your time & talent read the full article @outmagazine',\n",
       "  1),\n",
       " ('Thank you so much Chicago 🏳️\\u200d🌈 2 Sold out shows @chicagotheatre 🤸🏻\\u200d♀️😭😭🙏🏻🙏🏻 We hope your stomachs are sore from laughing so much @kylejune @jaboukie 💫💫 Indianapolis can’t wait for our gorgeous SOLD OUT show tonite!!! 📸 @andy.argyrakis',\n",
       "  1),\n",
       " ('It’s #nationalgunviolenceawarenessday & as @speakerpelosi wore orange when I interviewed her last year it’s the color of #gunviolenceawareness - While these hashtags and days of awareness are important & useful it’s even better to do something actionable now from this post. The gun lobby @nationalrifleassociation has a death grip on our government and they do so with money. To combat that follow & donate to @momsdemand , @everytown or look up your state legislatures & federal to find out their voting records on gun safety. Our lives have all been touched in someway by gun violence and let’s wake up & help the people fighting on the front lines. Tag reps fighting for gun safety like @replucymcbath #wearorange',\n",
       "  1),\n",
       " ('Thank you all so so much 🏳️\\u200d🌈 Male Star or the year?? To all the people that voted thank you so much, so so grateful and proud of our team @queereye I just really honestly can not believe 💫💫',\n",
       "  1),\n",
       " ('Happy Pride loves 💕💙 Time to celebrate with your LGBTQ fam & allies alike to celebrate the diversity that makes everyone stronger! 🌈🌈💕 @queereye',\n",
       "  1),\n",
       " (\"Can't think of a better way to spend the day than with these two @themasters. Awesome having them out there with me today #TheMasters\",\n",
       "  0),\n",
       " ('@pumagolf got my threads. Time to focus on my game now. It’s #TheMasters. Let’s go!',\n",
       "  1),\n",
       " ('I’m proud to partner with @CDWcorp and their #TechFore mission to help kids learn valuable life skills through access to golf and technology. #peoplewhogetIT',\n",
       "  1),\n",
       " ('Check out Inside the PGA Tour this week on Golf Channel.', 1),\n",
       " ('Well it’s official! Excited to be wearing @pumagolf this year and supporting @volitionameria and @foldsofhonor. I’ll be looking good, feeling good and representing a great cause. #ResistOrdinary',\n",
       "  1),\n",
       " ('I’m extremely excited to be joining @WilsonGolf after working with them extensively the last few months. Their premium line of clubs and high-quality equipment will be integral as I continue to elevate my game. #WilsonStaff',\n",
       "  1),\n",
       " ('Don’t usually play golf on vacation but @playagrandeclub is so good I had to play a couple times. Luckily @gabby_woodland came to caddie and keep the music going',\n",
       "  1),\n",
       " ('\\u202aLove being back in town for the KU golf reunion. Great time at @lark_a_fare for dinner and drinks. \\u202c',\n",
       "  0),\n",
       " ('Thank you Bellerive Country Club for the hospitality today. Excited to come back next month for the PGA Championship',\n",
       "  0),\n",
       " ('Little fine tuning with Butch before playing 3 weeks in a row', 1),\n",
       " ('Back in one of our favorite places. Next time we’ll be here at the end of the year, we will have our new little travel buddy with us! #asilomarbeach #sunset #california',\n",
       "  0),\n",
       " ('Picking up things for Baby B in the small charming town of Valldemossa. Love seeking out local shops and shopping small with @AmericanExpress to support small businesses at home and abroad. I can’t wait to see the little lady in the dress we got her! #ShopSmall #AmexAmbassador #AmexLife #gmgcollection #gmgonme',\n",
       "  1),\n",
       " ('Hi guys I just wanted to share with you my pre and post workout supplements from @myntrx 💪🏼 The pre-workout has changed working out for me it gives me so much energy. The BCAA’s taste so yummy and are so hydrating. Go check out their page and give them a follow!!',\n",
       "  1),\n",
       " ('nothing is better than getting your hair done!!! thank you to @jillenefarrbeauty and @heather.formsalon for making me blonde and happy again😍😍',\n",
       "  1),\n",
       " ('After trying my sister @lindsarnold’s @luftbeds I loved it so much that Topher and I needed to get one for our new apt! A great night sleep is so important to my recovery and fitness routine and @Luftbeds gives me that! You saw my IG story over Presidents Day weekend about #Luft and they let me offer to you all an extension on these awesome deals! So, use discount code JensenQueen ($200 off)  or JensenKing ($300 Off). The mattresses are delivered right to your door! #luftbeds #livelifted #mattress #handmade #madeinusa #luftpartner',\n",
       "  1),\n",
       " ('I need @marisarosemph everyday for my makeup😍 also @aubreebellephotography you’re the best photographer!! ❤️',\n",
       "  1),\n",
       " ('@maglebys_catering is the best you guys!!! If you are looking for a caterer for the big day you need them! The food and desserts were everything that we wanted, and tasted so good! Look how cute the mini donuts are😍 The grilled cheese & tomato soup, and the famous Magleby’s chocolate cake as our wedding cake made Toph and I soooo happy!❤️',\n",
       "  1),\n",
       " ('Our wedding featured on @people 💘 link in my bio :) ________________________________________\\n\\nI want to give a HUGE thank you to @pritchettbridal for my dress!! It was everything I wanted and more!! Thank you to @chandikatebeauty for doing my hair and make up for my bridals and wedding day. She is the best and made me feel so beautiful. Also thank you to @pronovias for the cutest fur wrap for my winter wedding!',\n",
       "  1),\n",
       " ('As I once said to @amtendler “you are an art project that is always evolving. I am like...a benign cartoon character.” This profile in @nylonmag captures the first part of that sentiment. Reading this just reminds me how amazing and lucky it is to watch this woman create every day. Lincoln bio.',\n",
       "  1),\n",
       " ('Thank you @petedavidson for spending your one day off onstage with me every week. You’re the greatest. Thanks to all of you who came to see us. More dates in the Fall... Photo @marcusrussellprice',\n",
       "  0),\n",
       " ('2015. “The Devil and Petunia” also titled “The Devil and Anthony Jeselnik.” Anthony’s new special FIRE IN THE MATERNITY WARD is perfect.\\nIt’s on @netflixisajoke.',\n",
       "  1),\n",
       " ('\\u202aMy Nana has served the homeless and needy of Lynn, MA at My Brother’s Table for decades. So I am doing a benefit for them in BOSTON MAY 6 with every Nanas favorite comic Pete Davidson. The link is in my bio. Tickets are more than usual but every dollar goes to a wonderful organization. And you’ll make my Nana really happy.\\n\\nPoster by the great @marcusrussellprice',\n",
       "  1),\n",
       " ('Late Shows Added', 1),\n",
       " ('styled by @khyatibusa makeup @anishaachhabriamakeup hair @azima_toppo #Repost @shaheenabbas\\n・・・\\nSOOO EXCITED about this collection from @flowerchildbyshaheenabbas Make it personal: our latest line of initial medallions are what you need to up your jewellery game. These versatile detachable beauties can be added to pendants, chain chokers, bracelets and rings alike — perfect for your own collection or as all-occasion gifts. ..\\n..\\n..\\n..\\n..\\n..\\n#flowerchildbyshaheenabbas #personalisedgifts #initialmedallions #everydayjewellery #giftsforher #giftsfor him',\n",
       "  1),\n",
       " ('@zimmermann @sacaiofficial @burberry styled by @khyatibusa hair @reenadutta123 makeup @ritarathod786 #Repost @gqindia\\n・・・\\n#GQBestDressed 100: Potent, savvy dressers in this trio: Dior rep @anuragty, @shibanidandekar and musician @zaedenmusic. #June2019 Photo: Manasi Sawant\\n\\n_________________________________________\\n\\n#BestDressed #StyleFlex #Fashion #ShibaniDandekar #Dior #AnuragTyagi #Zaeden #SahilSharma #Musician #GQShoot',\n",
       "  1),\n",
       " (\"This one’s a winner. Been humming this anthem since I heard it @vivianakadivine. Go all out, team India @virat.kohli. Let's #SockThem! @pumaindia\",\n",
       "  0),\n",
       " ('🍬\\nDress by the incredible @shehlaakhan love you girl! styled by my girl @khyatibusa makeup by my lovely @ashreyaa 🌸 jewelry by @outhousejewellery\\n@curiocottagejewellery #thatbrowngirl',\n",
       "  1),\n",
       " ('#beachbum #thatbrowngirl\\nbody by @drewnealpt #bodybydrewneal\\nphoto by @faroutakhtar\\noutfit by @hm\\n#nofilter Monday’s!',\n",
       "  1),\n",
       " ('Imma be right here hanging out!\\n@khyatibusa @sashajairam @anishaachhabriamakeup @reenadutta123 @azima_toppo @aspiringshe\\nKeep following me on @helo.app for all the latest updates!',\n",
       "  1),\n",
       " ('Mid week ballin with #dmoney @monicadogra #thatbrowngirl 🚁 🙌🏽 photo bombing swag @kizeesmack 📷 @faroutakhtar shades by @rayban_india',\n",
       "  1),\n",
       " ('#PSGIRLS are the happiest @monicadogra @payalsinghal earrings on #thatbrowngirl by @outhousejewellery styled by @khyatibusa 🌼🌸 📷 @faroutakhtar 🌟',\n",
       "  1),\n",
       " ('A woman’s clothes are her way of expression and we have no right to use that as an excuse to judge her. with the help of @celioindia, I’m using, “jeans”, a well-known piece of basic and comfortable clothing, to define women and stand up for them and their rights. appreciate, love and cherish them. #WearYourDenims, join us in our cause, make a change and support us. #DenimDay #celioindia',\n",
       "  0),\n",
       " ('Serving some #SHEINXshibani on this fine Tuesday! @shein_in Best time working on this collab! 💐 @tanvivoraphotography @theparag26 @anishaachhabriamakeup @reenadutta123 @azima_toppo @nidhijeswani',\n",
       "  1),\n",
       " ('If I had an office pup like this I would definitely love going into work everyday! 😝 📢all job seekers: sign up for the free 5-day challenge and tag a friend who can use help landing their dream job!',\n",
       "  1),\n",
       " ('Woohoo!! You can now sign up for the Happily Hired Challenge, a free, live 5-day challenge for all jobseekers who feel like their job search is futile. •\\nFrustrated from being ghosted? •\\nInterviewing but told you’re overqualified... then underqualified? •\\nHave moments of wanting to just give up but also hate your current situation? •\\nMy friend, I’ve got your back! Last time I hosted this challenge I had so many people just like you saying they walked away with immense clarity, confidence, and recognizing their value! •\\nWhat’s more amazing though is how much FUN we had. Yes, you heard me right, job searching can be fun! •\\nSo what are you waiting for? Sign up today (link in bio) so we can cross “land a dream job” off your bucket list. 📝 psst! Invite your friends to the challenge because sharing is caring. 👯\\u200d♀️👯\\u200d♂️',\n",
       "  1),\n",
       " ('In 2016, I made it my mission to always feel and embrace feelings of fear because I know that means growth. What I’ve found is that I love fear because once I acknowledge it and push past it anyway, the rewards waiting on the other side make me want to chase after fear ten times over. Today, I’ve now coached hundreds of ambitious corporate professionals to do the same… scared of networking, scared of presenting, scared of trying… they too have been able to enjoy the rewards waiting for them on the other side... dream jobs, dream collaborations, dream opportunities, and dream salaries. All from just trying something new! #inspire #cultivateyourcareer',\n",
       "  0),\n",
       " ('Thank you for all of the birthday love 🎂🎈🎉\\n。\\nAs I get older, I realize everything I could possibly want, I already have. 。\\nThat’s why this year I want to give back to others who don’t even have basic needs met. 。\\nI’ve decided to make a birthday pledge with @charitywater so millions of people around the globe can have access to clean water and therefore better health, education... everything!\\n。\\nIf you’re able to donate or simply share the fundraising page (link in bio) it would be the best birthday gift 🎁 Together we can change this world and make it a better place than we found it. 。\\nM w a h !',\n",
       "  1),\n",
       " ('Returning to my “new” normal. .\\n\\nI appreciate the love and support from everyone throughout the month of March. .\\n\\nIt is hard to believe I was in Taiwan for 3 weeks - in my mind it felt more like 3 months. .\\n\\nMany of you shared you’ve also lost a parent throughout the years. I, too, am deeply sorry for your loss. .\\n\\nIt’s hard to describe this feeling but as I step into April and return back to my “new” normal I actually feel a deep sensation of acceptance. It’s as if my dad is actually CLOSER than ever before. As if his spiritual presence is one that I can call upon 24/7. For this, I am so grateful. .\\n\\nI’m a strong believer in everything happens for a reason and perfectly imperfect. 🙏🏼 all is good in this universe. Now go hug someone you love and tell them how much they mean to you! 🤗',\n",
       "  0),\n",
       " ('I talk to so many jobseekers that say something like this:\\n-\\n“I’ve been job searching for some time but I haven’t had any luck. Maybe I should change my profession.”\\n-\\nWhat they really mean is they’ve been spending hours on their resume, applying online, and sitting back waiting for something to happen... for months. -\\nDon’t be fooled by applying online. It may feel like you’re being productive but it is the biggest time waster yet! -\\nYou’re not hearing anything back because you’re being passive. -\\nWhile you’re waiting, a less qualified candidate is messaging the hiring manager directly and asking for an interview. -\\nIt’s like people waiting in the general admission line at da club... you see that person walking up directly to the bouncer and getting in immediately despite you waiting there for 45 minutes plus and counting. -\\n“Conventional guys and girls finish last.” - Emily -\\nI challenge all of my clients to challenge conventional wisdom and do something different from what every other career coach is teaching. 😬 because I promise you it works!',\n",
       "  0),\n",
       " ('“The unknown carries tremendous opportunities, knowledge, potential, and rewards. Step into it often.” - Gikandi 🌱',\n",
       "  0),\n",
       " ('Aloha! Whenever I travel I am just amazed and in awe at what is created around us. From beautiful nature and all of the variety of plants and animals. To the no two sunsets or skies are the same. To the surfboards that people freaking ride waves on. To the perfect cup that holds my latte. We live in such an inspiring and magnificent world! •\\nI am in my happy place! The state of being and feeling free, calm, at peace, and completely confident and in control of my future. •\\nOne of my favorite activities has just been sitting next to the ocean and journaling, reading, and meditating. What’s amazing is all of this is FREE! Grateful for access to uplifting scenery and letting my imagination run wild. 🌱\\n•\\n⬇️What do you do for fun on an 🌴 island? ⬇️',\n",
       "  0),\n",
       " ('Day 3 of the Dream Candidate Challenge is kicking off in 10 minutes! Weeee!\\nWe’re talking about the psychology behind the job search and first impressions.\\nI’m loving the massive action, engagement, connections, and insights ambitious corporate professionals are taking and getting.\\n#grateful',\n",
       "  1),\n",
       " ('Oops I am a day late... happy new year!!!! 🥂🥂🥂 Chris and I spent ours with in n out, watching Wonder, and creating vision boards. It was an introverts’ dream. 😍 364 days left ... let’s create magic!!',\n",
       "  0),\n",
       " ('When you get that “you got RENEWED for SEASON 3” call!!! Thank you @fxnetworks for giving us a home, for believing in us, for equipping our cast and crew with the resources to make history and move folks to think and do different. Thank you to our loyal viewers for showing up for us and helping us make record numbers for our season 2 premiere (it was our MOST WATCHED EPISODE!) We know you can spend your time anywhere and the fact that you spend it with us means the world to us. We love you!!!! #poseFX',\n",
       "  1),\n",
       " ('Heartbroken and enraged from the harsh reality that Layleen Polanco, who was incarcerated on Rikers Island, was found dead in her cell on Friday. Folks are gathering Monday in NYC and collecting donations to help lay her to rest. Links are in my stories. We need to show up for trans women of color. We need to #CloseRikers. We need to check and challenge any one seeking to police our bodies, genders and identities. Rest in power, Layleen. #closerikersnow #twoc #layleenpolanco #justiceforlayleen #girlslikeus 📷 @vrye',\n",
       "  0),\n",
       " ('Chatted with ELLEN DEGENERES (@theellenshow) about my first time meeting RYAN MURPHY (@mrrpmurphy) for @poseonfx two years ago...and how this little engine that could didn’t only change culture but my life, empowering me as a storyteller to show what I could do as a director, writer and producer. I’m so so grateful!',\n",
       "  1),\n",
       " ('G U C C I', 1),\n",
       " ('V A L E N T I N O', 1),\n",
       " ('Wore my bossiest pants to speak at the @wsj’s FUTURE OF EVERYTHING Festival where I discussed my path as a storyteller through writing and directing, the power of POSE, and how recruiting, hiring and equipping marginalized folks to tell their own stories makes for the most authentic, dynamic and impactful storytelling. My hope is that the practices we’ve implemented on POSE becomes industry standard. #wsjfuture',\n",
       "  0),\n",
       " ('We won a @peabodyawards for POSE! ! ! As someone trained as a journalist, there’s no greater, more meaningful award than the Peabody which celebrates “stories that matter,” storytelling with impact. So grateful to the board of jurors for unanimously selecting our show and recognizing our work in a culture that often overlooks us. #posefx #girlslikeus',\n",
       "  0),\n",
       " ('C A R O L I N A H E R R E R A', 1),\n",
       " ('I got ready for the #metgala with @elleusa rolling their 🎥. It’s a ki. Get into it!',\n",
       "  1)]"
      ]
     },
     "execution_count": 28,
     "metadata": {},
     "output_type": "execute_result"
    }
   ],
   "source": [
    "false_pred_comments = [(comment, promo) for comment, promo in zip(false_predictions['comment'], false_predictions['promo'])]\n",
    "false_pred_comments"
   ]
  },
  {
   "cell_type": "markdown",
   "metadata": {},
   "source": [
    "75 of the 248 testing posts were incorrectly classified."
   ]
  },
  {
   "cell_type": "code",
   "execution_count": 29,
   "metadata": {},
   "outputs": [
    {
     "data": {
      "text/plain": [
       "75"
      ]
     },
     "execution_count": 29,
     "metadata": {},
     "output_type": "execute_result"
    }
   ],
   "source": [
    "len(false_pred_comments)"
   ]
  },
  {
   "cell_type": "markdown",
   "metadata": {},
   "source": [
    "Viewing the predictions that it got correct."
   ]
  },
  {
   "cell_type": "code",
   "execution_count": 30,
   "metadata": {},
   "outputs": [],
   "source": [
    "true_predictions = combined_posts_df.loc[combined_posts_df['correct'] == True]"
   ]
  },
  {
   "cell_type": "code",
   "execution_count": 31,
   "metadata": {},
   "outputs": [
    {
     "data": {
      "text/plain": [
       "[('Summer is a great time to freshen up the kids’ bedroom or play area, and I can’t wait for you to see what we’ve come up with this season. Check out our new bedding and wall decor collection (just for kids!), available at @Target. #HearthandHand',\n",
       "  1),\n",
       " (\"They all look up to you so much @chipgaines You're the strongest, bravest, funniest, and most loving man they know. You lead our babies well- Happy Father's Day! ❤️\",\n",
       "  0),\n",
       " (\"Happy Father's Day to the plant daddy of all plant daddy's. I got my love for plants from this man- he has taught me that determination and hard work with a mix of patience and grace can not only help in the garden but also with family, business and life. I had the privilege of working with him for ten years at his tire shop and he taught me about these things 1st hand. I always thought I would take over his shop when he retired, this was at least the plan. Once I met Chip I started realizing I had some hidden dreams in my heart but was scared to let my dad down. When he got wind that I was ready for something else he quickly sat me down and told me to go for it and do what my heart was telling me to do. I'm thankful for all the things you've taught me Dad- you were determined and worked so hard for your three daughters, you loved us with great patience and grace. And I love it that every time I smell tires I think of you and the good ol' days (and now that you work here with me you have to admit it's a lot nicer to come home smelling like candles 😉). I love you so much Dad, Happy Father's Day! ❤️\",\n",
       "  0),\n",
       " (\"One more push y’all! We have til midnight CT tonight. Let’s fight for our friends who are fighting for just one more day. #NotTodayCancer⠀\\n⠀\\nRepost from @chipgaines: More than 10 years ago, my friend @gigrunewald was diagnosed with an extremely rare form of cancer. I understand that Gabe is not a patient at @StJude, but right now, she is fighting for her life. Cancer is ugly and it is mean and it doesn’t fight fair. This has gotten extremely personal.. so here’s what I’m going to do about it: I want us to hit that $500K mark by midnight tonight. So I will be personally matching all #ChipInChallenge donations made between now and midnight. ON TOP OF THAT, I'll also be matching that amount in the form of a donation to the #BraveLikeGabe Foundation, in Gabe's honor. That is 3x the power of your generosity in the fight against cancer.. and all YOU need to do is donate whatever you can to the #ChipInChallenge (link in bio) between now and midnight CT. I’ll take care of the rest. Together, we’re going to fight for those who are fighting for just one more day. This is for those precious kids at St. Jude.. we are pulling for you! And to my beautiful friend Gabe.. we love you and we are here for you every step of the way.\",\n",
       "  1),\n",
       " (\"After months of developing and finalizing recipes, we are excited to start shooting Volume Two of our cookbook! Gonna have to talk with this little one's agent about his on-set behavior.... 📷: @amyneunsinger\\n#MagnoliaTableCookbook\",\n",
       "  1),\n",
       " ('Course complete! School looks good on you @chipgaines ❤️ #ChipForClassPrez #bems',\n",
       "  0),\n",
       " (\"What we witnessed this week at @harvardhbs was human beings at their very finest. 85 people from all around the world, from all different walks of lives, with different cultural backgrounds, religions, political beliefs and professions. We learned from one another and spoke into each other's lives, sometimes challenging but always valuing every perspective. Not a single one of us were alike, and yet by doing something as simple as listening to and respecting one another, we were challenged and made better. Thankful for this opportunity @anitaelberse – your leadership and your passion caused grown, busy adults to think with curiosity about our own businesses and about the world around us. Oh and one more thing... I know I might be biased but I'd like to officially cast my vote for Chip as CLASS PREZ. #ChipForPrez (Photo by @evephoto ) #bems\",\n",
       "  0),\n",
       " (\"16 years and it feels like we're just getting started... I love you Chip Carter Gaines #16\",\n",
       "  0),\n",
       " ('Current stage of life', 0),\n",
       " (\"We are used to coming across shiplap in a lot of the old homes we renovate but this amazing stone we found behind the plaster is unlike anything we’ve seen! We can't wait to restore this 130 year old beauty #gristmill\",\n",
       "  0),\n",
       " ('Here’s to the playful and unstructured days of summer! See what’s new this season - available at @Target #HearthandHand 🚲☀️',\n",
       "  1),\n",
       " ('Summer is almost here! ❤️', 0),\n",
       " ('This summer, we’re taking a look at freedom -- what it means, how it feels, and why it’s worth fighting for. Our team has spent hours immersing themselves into the idea of freedom and then concepting what it could look like both in the magazine and in the store. Watch the full video at link in profile! @magnolia',\n",
       "  1),\n",
       " ('Reading time with big brother is his favorite ❤️', 0),\n",
       " ('Emmie picked some pretty ones tonight \\U0001f9e1\\n#wearethegardeners', 0),\n",
       " ('Silos baby 💚', 0),\n",
       " ('Weekend wonderment ❤️', 0),\n",
       " (\"Taking a stroll through the roses but he's more impressed with his toes 😍\",\n",
       "  0),\n",
       " ('Woke up this morning feeling like it was all a dream. Thank you @time for including us in the #time100. What an honor to be in the room last night❤️',\n",
       "  0),\n",
       " ('Abs like a ninja turtle 🐢', 0),\n",
       " ('I’d say there’s a 48% chance I’m actually the BEST photographer ever.', 0),\n",
       " ('Girls got talent. She might just make it...WOW to the awesome dude (me) for taking such an incredible photo. #husbandgoals ;)',\n",
       "  0),\n",
       " ('Love you Mum! Happy Mother’s Day!You’re truly one of a kind. ❤️', 0),\n",
       " ('Me and my hot date last night @avengers endgame. An absolute blast of a time! 🚀🚀',\n",
       "  0),\n",
       " ('Came across this little gem. 😂 I’ll never stop ;) ❤️❤️', 0),\n",
       " ('#Repost @joshuahorowitz ・・・\\nAnother satisfied AFTER HOURS customer. My Valentine’s gift to all of you is a romantic bit of comedy starring Liam Hemsworth. Jokes aside, Liam is awesome in this. Check it out! Link in my bio. #liamhemsworth #isntitromantic #afterhours 📷: @roxhartridge',\n",
       "  1),\n",
       " ('Thanks for having me and always being so awesome @jimmyfallon @fallontonight tune in at 11:35/10:35c on NBC 📸 Andrew Lipovsky',\n",
       "  1),\n",
       " ('Thanks again to @gdayusa for the honor. And thanks to my friend Vince for taking the time to present this award. Very grateful.',\n",
       "  0),\n",
       " ('Birthday wheelies all day. Thanks for the love everyone!', 0),\n",
       " ('My love ❤️', 0),\n",
       " ('Happy birthday to my sweet girl. You’re more precious than ever. So thankful to have you in my life. ❤️',\n",
       "  0),\n",
       " ('Happy birthday @hemsworthluke You’re a beautiful merman \\U0001f9dc\\u200d♂️ proud of you. Love u long time.',\n",
       "  0),\n",
       " ('Seagull and a scary storm wave.', 0),\n",
       " ('My massive mate Eddie. He’s laying on my wallet...anyone know how to move a 2500lb bull?',\n",
       "  0),\n",
       " ('“This is my good mood mug”. Kyle. Arkansas.', 0),\n",
       " ('Season 4 is coming July 19th @netflix 🏳️\\u200d🌈 New episodes from Kansas City 👯\\u200d♀️ some big surprises coming your way 💕💕💕',\n",
       "  1),\n",
       " ('Making our way through this gorgeous tour w @kylejune comedians extraordinaries 🎶 @cher 🏳️\\u200d🌈 #roadtobeijing',\n",
       "  1),\n",
       " ('Harry Larry says, “The humidity is pretty low out there, so enjoy that weekend!” & I say omg gimme a kiss Larry I’m going to Atlantic City, see you tonite! 💕 🏳️\\u200d🌈',\n",
       "  0),\n",
       " ('Can you believe? 🏳️\\u200d🌈 📸 @itstherealbiel', 0),\n",
       " ('I got to meet & interview the real life @the_real_erin_brockovich \\U0001f92f\\U0001f92f what an incredible person!! Newest episode of #gettingcurious now avail 💫 link in bio for more on the podcast follow @curiouswithjvn',\n",
       "  1),\n",
       " ('Financial planning, but make it self care! Talking taxes, retirement, or shopping for loans or credit cards always made me want to shut down. But @creditkarma makes financial planning so much more manageable than going it alone. 💕 #ad',\n",
       "  1),\n",
       " ('Still can’t believe I got to meet these two fuquin queens who need to nominated for lots of Emmys 🏳️\\u200d🌈💫@abbijacobson @ilana @televisionacad #foryourconsideration',\n",
       "  0),\n",
       " ('Thank god for tape 🙏🏻🙏🏻 loved being back on stage serving those laughs 🏳️\\u200d🌈',\n",
       "  0),\n",
       " ('Greetings from my sold out #roadtobeijing show in Indianapolis last night #2020 🏳️\\u200d🌈 Religious Liberties = Right to Discriminate @vp',\n",
       "  0),\n",
       " ('Never thought I’d be a first pitch person @cubs #lgbtq', 0),\n",
       " ('Hey Chicago 🏳️\\u200d🌈', 0),\n",
       " ('I’m so honored to announce I’ve teamed up with @essie as their first non-female ambassador in celebration of Pride! For me, polish has always been a form of self-expression. Right now that means this mosaic rainbow mani moment. Wearing it proud! 🏳️\\u200d🌈💕 #essiePartner #essielove #LorealProud',\n",
       "  1),\n",
       " ('Proud of @netflix launching the new instagram @prism which will be focused on #LGBTQ content creators 🏳️\\u200d🌈 #pride',\n",
       "  1),\n",
       " ('To kick off Pride on #gettingcurious I’m honored to have Masha Gessen. An incredible Russian journalist, Masha has a unique ability to explain the Russian LGBTQ propaganda law as someone who lived there during its implementation. Masha is also the author of ten books of nonfiction, most recently The Future Is History: How Totalitarianism Reclaimed Russia, which won the 2017 National Book Award for Nonfiction. Gessen is also the author of the national bestseller The Man Without a Face: The Unlikely Rise of Vladimir Putin (2012). Gessen is a staff writer at The New Yorker and a national fellow with New America Foundation. Really proud of this episode take a listen - link in bio 🏳️\\u200d🌈',\n",
       "  1),\n",
       " ('Where all my Johnny’s at!? #ad Today only, @charmin is honoring John’s with FREE TP because a survey found that us Johns, Jonathans, Jonathinas (and actually just anyone who even knows anyone named John) said Charmin was their # 1 TP. Take it from a gorgeous queen on her throne (lolz) and check out my stories. Because all #JohnsWantCharmin Ends 6/5/19. While supplies last. See offer terms for details. www.JohnsWantCharmin.com',\n",
       "  1),\n",
       " ('Not back to tumbling quite yet but she’s getting there 🤸🏻\\u200d♀️ #timeforme #wellness 🎶 @kelseaballerini',\n",
       "  0),\n",
       " ('A night with the family 🌈 @queereye #netflixfysee', 0),\n",
       " ('A Father’s Day I’ll never forget. Thank you to everyone for the overwhelming amount of messages and love',\n",
       "  0),\n",
       " ('Thank you CDW for the new bag for this weeks @usopengolf. Loving the Red, White & Blue with support for @foldsofhonor all over it',\n",
       "  1),\n",
       " ('The folks @wilsongolf have me dialed-in for @TheMasters this week. Excited to get things going in Augusta! #WilsonStaff',\n",
       "  1),\n",
       " ('Love wearing @volitionamerica this season. Nothing better than the red, white and blue- especially Blue! Rock Chalk!!',\n",
       "  1),\n",
       " ('Had a great day at @wmphoenixopen media day then talking and shooting around with Coach Hurley after @sundevilhoops practice. Thanks @pumahoops for helping me step my shoe game up.',\n",
       "  1),\n",
       " ('Happy birthday to this hot momma. Thanks for putting up with me and Jax',\n",
       "  0),\n",
       " ('St. Louis what can I say but Thank You. The energy and atmosphere you provided last week was amazing. To my family, friends, and ROCK CHALK nation that came across the border to watch- you’re the best. Don’t care to ever hear that m-i-z chant again. Excited for this much needed off week before the playoffs',\n",
       "  0),\n",
       " ('I think little man enjoyed his first birthday cake', 0),\n",
       " ('Final work in Vegas with @coup4359 before US Open. Swinging so well he’s taking me to the Knights game tonight',\n",
       "  0),\n",
       " ('I’m so honored and humbled to have received the CPL Brock Bucklin Patriot Award last night at the Folds of Honor Patriot Cup National Gala. Today was equally as special to able to play golf and spend time with the men and women that have served and the families that have paid the ultimate sacrifice for this country. @majordanrooney and @foldsofhonor are changing lives and I’m proud to be part of their mission.',\n",
       "  0),\n",
       " ('Much needed getaway #MikeyTurns50again #firstdance', 0),\n",
       " ('Truly an incredible experience this week at the @wmphoenixopen. Thank you to the tournament for once again putting on one of the best events all year, the fans for creating an atmosphere that is unmatched, my partners @uagolf, @CDWcorp, @taylormadegolf, and @netjets for the endless support, and my family for waiting for me as I walked off 18.',\n",
       "  0),\n",
       " ('They say marriage is about compromising so I’m glad @gabby_woodland realizes we only root for Kansas even though she went to Baylor',\n",
       "  0),\n",
       " ('Wishing everyone a Merry Christmas from the Woodland’s', 0),\n",
       " ('Summertime toile \\U0001f9fa My uniform for the season: cotton maxi dresses and basket bags (and we might have picked up a few more here in Spain!) Sharing this look in Valldemossa over on galmeetsglam.com today - link in my profile. #summerstyle #toileprint #maxidresses #summerdresses #spain #valldemossa #mallorca #gmgonme #gmgcollection',\n",
       "  1),\n",
       " ('I’ve finally figured out how to achieve the perfect voluminous hair in between washes- even better than fresh clean locks thanks to @NexxusNYSalon Between Washes range. Swipe through to a tutorial of how I easily got this 2nd (sometimes even 3rd or 4th) day hair look using the @NexxusNYSalon Dry Shampoo Foam and Air Lift Finishing Spray. And make sure to watch my IG Stories to hear even more of why these are some of my most used hair products. #nexxushair #NexxusPartner',\n",
       "  1),\n",
       " ('My everything. You’re going to be the most amazing father to our little girl. The both of us are so lucky to have you. @tberolz We love you! #mylove #soontobefather #gmgcollection #gmgonme',\n",
       "  0),\n",
       " ('Woke up early to head into Carmel before spending the afternoon at the #USOpen and stopped by Carmel Valley Coffee Roasting Co for some coffees and a beach walk. Now through Sunday (from 6-10am) if you use your @americanexpress Card, you’ll get a complimentary pastry! Another reason to always #shopsmall #amexlife #amexambassador #ad',\n",
       "  1),\n",
       " ('Saturday morning in Carmel 🌿 #carmelbythesea #summerincalifornia', 0),\n",
       " ('At beautiful Pebble Beach this weekend for the #USOpen thanks to our @americanexpress fam! My golf loving @tberolz is so excited to be here and we love getting to spend some time back in California. If you’re going to the course this weekend and spend $10 or more on your @AmericanExpress Card at concessions, you’ll get a commemorative cup, which I used all day to stay hydrated on the course. Terms Apply. #AmexLife #AmexAmbassador #Ad',\n",
       "  1),\n",
       " ('Summer is here with our newest June @galmeetsglam pieces, ready to shop now! Lots of linen and cotton and two pieces for the season! Wearing our Sylvie jumpsuit in Spain here! #linenjumpsuit #summerstyle #spain #mallorca #gmgonme #gmgcollection',\n",
       "  1),\n",
       " ('Our June @galmeetsglam Collection arrives today at 12pm est/9am pst ☀️☀️☀️ Summer is here! #summersunshine',\n",
       "  1),\n",
       " ('A little over 30 weeks with this bump and it finally feels like we’re getting so close to meeting her! We’re on our last leg of travel (for my sister @laurentaylorcreates wedding in Ireland!) before we’re home bound for baby. More over on galmeetsglam.com today #30weeks #babyb #spain #mallorca',\n",
       "  1),\n",
       " ('Baby bump at the beach 🌊 One of our favorite afternoons in Mallorca was spent at Cala Deià, the beautiful rocky beach with crystal clear water near our hotel. Sharing more from this day over on galmeetsglam.com today along with my favorite blue and white summer beach looks with @nordstrom - link in my profile to the post! #sponsored #beachday #caladeia #mallorca #babymoon #spain',\n",
       "  1),\n",
       " ('This pregnant lady is extra happy about 1) her strawberry ice cream and 2) her comfy striped @jcrew dress! Thanks @jcrew for having us at your Summer Soirée in the beautiful Elizabeth Street Garden gearing up for #nationalstripeday #jcrew',\n",
       "  1),\n",
       " ('All the summer feels ☀️ A peek at some of our two pieces arriving this Friday the 14th with our June @galmeetsglam Collection. Lots of cotton and linen coming your way! Which set is your favorite? #summerstyle #summergetaway #gmgcollection #gmgonme',\n",
       "  1),\n",
       " ('Endless blues in Mallorca 🌊 Rounding up all of my favorite crisp summer whites (and lots of gauzy pieces) over on galmeetsglam.com today - link in my profile! #mallorca #summerwhites #spain #babymoon #endlessblues',\n",
       "  1),\n",
       " ('Covered in Daisies 🌼🌼🌼 also highlighting some of my favorite designers over on galmeetsglm.com today (link in my profile!) #daisies #summerstyle #mallorca #nicolabathie',\n",
       "  1),\n",
       " ('We finally got to meet our goddaughter in London last week 🌼🌼🌼 Lily Valentine @rosielondoner Oh we love her so much already and we can’t wait to introduce her to her best friend in a few months!!!!! #picnicinthepark #hydepark #weekendinlondon',\n",
       "  0),\n",
       " ('The three of us 🌸🌸🌸 @tberolz is over on galmeetsglam.com today sharing his top picks for Father’s Day gift ideas! Head on over to the link in my profile for more #babyb #petershamnurseries #london #mylove #gmgcollection #gmgonme',\n",
       "  1),\n",
       " ('Best lunch of the trip! And possibly the prettiest views too #caladeia #caspatromarch #mallorca #spain #babymoon #deia #lunchviews',\n",
       "  0),\n",
       " ('Back in Charleston where summer always comes early! Hello heat and humidity! My favorite linen dress for the season over on galmeetsglam.com today #linenseason #charleston #summerdresses #gmgcollection #gmgonme',\n",
       "  1),\n",
       " ('Finally made it back home late last night but missing these gorgeous morning views in Deià. What a wonderful trip it was @tberolz #babymoon #mallorca #spain #deia #morningscene',\n",
       "  0),\n",
       " ('Roses and lemons everywhere 🍋🌸 The most amazing scene and smell to arrive to #mallorca #spain #roses #lemons #summercolors #babymoon',\n",
       "  0),\n",
       " ('The lady and I love yellow 🌼🍋☀️ And getting dressed up for a night out with @tberolz More of my favorite yellow hues over on galmeetsglam.com today - link in my profile! #summertime #yellow #mallorca #spain #borgodenor #babybump #babyb',\n",
       "  1),\n",
       " ('It’s June, which means baby girl will be here the month after next! Feels like she’s grown so much over the past week and half 💕 #29weeks #babyb #mallorca #spain #babymoon',\n",
       "  0),\n",
       " ('Sunset sail from Port de Sóller⛵️with my @tberolz Also, this @galmeetsglam cotton dress arrives on the 14th this month with our June Collection (it also comes in a two piece version!) #babymoon #mallorca #spain #portdesoller #sailing #gmgcollection #gmgonme',\n",
       "  1),\n",
       " ('Happy Father’s Day to the best @jdarnold20 ❤️ I don’t need to tell you how amazing he is, because you guys already know. But I am so lucky to have him as my dad. \\U0001f970 love you so so much.',\n",
       "  0),\n",
       " ('happy birthday cutie ry ry💘 can’t believe you’re 14!!!! love you so much!',\n",
       "  0),\n",
       " ('really love this little family of mine\\U0001f970', 0),\n",
       " ('happy birthday to the best mom in the whole wide world. I love you so much and I’m the luckiest to be your daughter. I hope you have the best day ever!! ❤️❤️',\n",
       "  0),\n",
       " ('It’s @brynleyarnold birthday week, DUH. I love this girl so much and I am so lucky to have her as my little (taller) sister :) she is the funniest and most genuine person you will ever meet. Also she is so freaking pretty. I love you bryn and HAPPY BIRTHDAY❤️',\n",
       "  0),\n",
       " ('happy easter everyone! 🌸💐 I love these boys sooo much💘', 0),\n",
       " ('happy monday everyone! just got home from an amazing week of teaching @worldofdance 🙌🏼 so so grateful to get to be doing what I love. \\U0001f970',\n",
       "  0),\n",
       " ('GIVEWAY IS CLOSED!! congrats to @hannahhbooren I will DM you!\\nI have teamed up with @furbodogcamera to give ONE lucky winner this amazing #dogcamera 🐶 We LOVE our new doggie camera so much! It has been super hard for us to leave Ace alone. But now with the camera, we can see what he’s up to, and throw him some treats!! #furbotreattime To enter complete the following steps⬇️\\n1. Follow @furbodogcamera and @jensenarnold_\\n2. Like this photo❤️ 3. Tag your friends!! Each comment will be counted as one entry😊 Good luck everyone! Winner will be announced 3/31/19! #furbo #caughtoncamera #ad',\n",
       "  1),\n",
       " ('ace hill♠️ our cute new puppy is a mini bernedoodle. He loves to sleep all day, and play at night... (working on it) but we are so happy to have him and love him soo much already🖤',\n",
       "  0),\n",
       " ('the hills\\U0001f970 thank you to my bestie @kfilmsvideo_ for the best video❤️\\n\\nwedding video',\n",
       "  0),\n",
       " ('how cute is @flexlivingcollection 😍 they are releasing all of their new workout clothes and restocking more on March 4th! Go check them out!',\n",
       "  1),\n",
       " ('you make me so so happy, happy valentines day my love.', 0),\n",
       " ('being married to him is the best❤️ one month down, forever and ever to go!!',\n",
       "  0),\n",
       " ('GIVEAWAY CLOSED!!! @bamatinkerbelle you are the WINNER!!! I want to thank @calledtosurf for my bridesmaid dresses! I got to customize and make them which was such a fun process, and they are the best to work with. Also how pretty are the girls standing next to me😍 I partnered up with them and we are doing a GIVEAWAY up to 5 bridesmaid dresses!! TO ENTER:\\nLIKE THIS POST, FOLLOW @calledtosurf and @jensenarnold_, TAG 3 FRIENDS!! Winner will be chosen by Friday!! Good luck\\U0001f929',\n",
       "  1),\n",
       " ('happy birthday to this beauty! I love you so much, and I’m so thankful to have as my sister. ❤️',\n",
       "  0),\n",
       " ('home from the dreamiest honeymoon🍯 I love him so so much.', 0),\n",
       " ('can’t wait for 2019 with you babe ♡', 0),\n",
       " ('2018!!!! The best year yet. Got engaged, was apart of SYTYCD season 15, toured America, and married the love of my life!!! so so grateful❤️',\n",
       "  0),\n",
       " ('THE HILLS💘', 0),\n",
       " ('June 9 2019', 0),\n",
       " ('Happy Birthday to my amazing sister Carolyn! Pictured here when we starred in “Bonfire of the Vanities” Happy Birthday Carolyn!! And Jackie Mason!',\n",
       "  0),\n",
       " ('Root Canal is fillers at half the price. Why waste a buck? #lifehack #lol',\n",
       "  0),\n",
       " ('Ghost', 0),\n",
       " ('this one loves noodles', 0),\n",
       " ('Happy Mother’s Day to the woman who skipped a grade, set lobsters free in her mother’s kitchen, stood up to the entire Georgetown Student Senate, became a lawyer, law professor, wrote the Code of Ethics for Child Welfare Professionals for the State of Illinois, rooted for and genuinely believed in the Chicago Bears for four decades, has been married to my Dad for almost 44 years without killing him, has been the greatest mother to all four of us, loving us all the time and being proud of us when we deserved it. Love you Mom. I apologize for stealing money from you occasionally. It was not a lot and stopped many years ago.',\n",
       "  0),\n",
       " ('my dog @laviepetunia has a new hairpiece that brings her a lot of confidence.',\n",
       "  0),\n",
       " ('#tbt May 9 2013. I had the ring in my hand, she turned around, and before I could say “will you..” she said “wait do you have sunscreen on?” She’s the fucking best.',\n",
       "  0),\n",
       " ('Albany, NY with @petedavidson Photo by @marcusrussellprice', 0),\n",
       " ('Last night at the @beetlejuicebway premiere. The show is a powerhouse. Its so ridiculously funny. @abrightmonster & @sophiaannecaruso and the entire cast are perfect. @alextimbers directed the most visually stunning fun show I have seen in forever. I’m going again.\\nPhoto by @emiliomk for @broadwaycom',\n",
       "  1),\n",
       " ('Wise Child, Simple Child, Wicked Child and Child Who Doesn’t Know How to Ask Questions, all roughly 36 years old, looking for and finding the afikoman. Congratulations @odtron!',\n",
       "  0),\n",
       " ('Passover 2019', 0),\n",
       " ('Running for Governor of Louisiana in 1932\\nphoto by @marcusrussellprice',\n",
       "  0),\n",
       " ('“There’s no business like show business.\\nEverything about it is appealing”\\n\\n@danlevyshow at work',\n",
       "  0),\n",
       " ('photo by annie leibowitz\\n@birbigs & @sordociego at the movies, just last night.',\n",
       "  0),\n",
       " ('BALTIMORE APRIL 28\\nI’m joining my friend and emergency contact Pete Davidson at Meyerhoff Symphony Hall! Link to tix in bio.',\n",
       "  1),\n",
       " ('Nice Sweet Boys who lived together (like draculas) in college (in squalor) backstage in Staten Island. Photo by @amtendler',\n",
       "  0),\n",
       " ('Live play by play of my green room at St George Theatre in Staten Island tonight',\n",
       "  1),\n",
       " ('i just purchased Rockefeller Center with a loan from td bank! Im thrilled!',\n",
       "  0),\n",
       " ('Walk, jog, run or even dance for a chance to win a trip to Manchester! Join @tecnomobileindia @racetomancity, powered by Stepathlon. Grab a partner and sign up now! (bit.ly/Shibani) #racetomancity #wintogether #mancity #healthylifestyle @ravi_krishnan1',\n",
       "  1),\n",
       " ('Aight folks we have taken care of the weather! Game on! #indvspak #saifalikhan @theofficialfanatic',\n",
       "  0),\n",
       " ('Just a couple of cricket FANATICS @theofficialfanatic\\n#SaifAliKhan get on the gram 😜 #bleedblue #indvspak #',\n",
       "  0),\n",
       " ('Dem Gangsta Sunday mornings 🐶 #thatbrowngirl', 0),\n",
       " ('Miss you already coach! @drewnealpt 9 incredible days of strength training, functional and boxing from the gym to the park! Don’t get better than that! 🥊🌳#bodybydrewneal @faroutakhtar RECORD!!!!! 😂',\n",
       "  0),\n",
       " ('Hosted the opening of the Cricket World Cup 2019 with these 2 dudes!!! @aflintoff11 @mcguinness.paddy such an insane experience and so damn fun!! Thanks Freddie and Paddy for being such incredible hosts!! Won’t forget the madness and the laughs! Mad love for you both! #cwc19 #criiio\\nThank you to the amazing team! was a blast working with you guys!! 🏆 🏏 suit by @driesvannoten',\n",
       "  0),\n",
       " ('City lights London nights 📸 @faroutakhtar #thatbrowngirl', 0),\n",
       " ('London training with @drewnealpt #bodybydrewneal shot by @faroutakhtar #london #thatbrowngirl',\n",
       "  0),\n",
       " ('CANDY FLOSS 👅 thank you thank you thank you @shehlaakhan for this custom piece! styled by my rock @khyatibusa makeup by my girl @ashreyaa jewels by @outhousejewellery @curiocottagejewelry',\n",
       "  1),\n",
       " ('@faroutakhtar 🍭\\nthank you thank you @shehlaakhan styled by @khyatibusa\\nhair and makeup by @ashreyaa\\njewels by @outhousejewellery @curiocottagejewelry',\n",
       "  1),\n",
       " ('🎱 @sashajairam @khyatibusa @anishaachhabriamakeup @reenadutta123', 0),\n",
       " ('🎱 @sashajairam @khyatibusa @anishaachhabriamakeup @reenadutta123', 0),\n",
       " ('🌟\\n@sashajairam @khyatibusa @anishaachhabriamakeup @reenadutta123 @_purple_paisley_',\n",
       "  0),\n",
       " ('#GiveawayAlert #Contest #MyntraFashionYourSport\\nThis cricket season, stand a chance to win one big Myntra voucher worth 50K. Plus there are hundred Rs 500 vouchers also up for grabs!! All you got to do is show us how you\\'re cheering for your team without wearing a jersey. Use #MyntraFashionYourSport and keep your profiles public\\n\\nMy personal pick is the \"Leg Glance\" look! Just the way a delicate straight batted shot with some classy wrist movement flicks the ball towards the square leg in no time, I too can slay it in the classiest way in my Maxi dress with a slit of team Bangalore colours\\nHurry! Participate now.\\n\\nHit the link in my bio for more styles in red. Style code for this maxi dress on @myntra: 8312855\\n#Crictionary #Myntra\\n.\\n.\\n.\\n.\\n#galleri5InfluenStar',\n",
       "  1),\n",
       " ('Looking for freedom.... this is where I find it .. with the best coach ever @drewnealpt 🥊 always helps when you punching to the sounds of the queen @beyonce 👑 🐝\\n#thatbrowngirl #BodyByDrewNeal',\n",
       "  0),\n",
       " (\"I'm curious, what are you most passionate about? 🐣\", 0),\n",
       " ('Happy Monday! \\U0001f929\\U0001f929\\U0001f929 Leave me an emoji of how you felt waking up today! \\U0001f9d0',\n",
       "  0),\n",
       " ('It was such an honor speaking on the Womxn in Leadership Panel alongside these amazing career women. We talked everything from conquering failure to defining your own success... to leadership qualities... to mentorship and networking. 🌱I often felt so lost navigating my career as a first generation Asian American without many role models. It felt really nice sharing advice I wish I heard early in my career. #mentorship #career #cultivateyourcareer',\n",
       "  0),\n",
       " ('I wrote an article this morning on how to find your life purpose. If you asked my dad what his was, he would have stated, “I don’t know.” -\\nWe were all put on this planet for a very specific reason and we all have a unique purpose. -\\nMy father’s recent passing illuminated a very clear purpose: to be the lifesaver that helps everyone who is lucky enough to cross his path. -\\nIn this article (link in bio) I’ve included a powerful exercise in helping you craft your own personal mission statement. Because everyone needs one and has one! 🙌🏼\\n-\\nThank you, dad, for everything. Rest In Peace. 03.19.2019. 🙏🏼💕',\n",
       "  1),\n",
       " ('Please please please send all positive thoughts and prayers this way to my number one man. ♥️',\n",
       "  0),\n",
       " ('Grateful for the women in 1910 who banded together and protested for employment opportunities, the right to vote, and to hold public office positions. -\\nAs a woman writing this in 2019, women certainly are making tremendous strides, but there is still so much more to be seen and done. -\\nI can’t wait for the day when you can go to a company’s about page and see half the executives are women. -\\nI can’t wait for the day when phrases like “boy’s club” no longer exist in industries like finance\\n-\\nI can’t wait for the day when the gender pay gap reads 0 cents -\\nAs a career coach, I am helping women tap into their boldness and get what they want in their careers. Because clarity, confidence, and communication are the keys to unlocking everything. I’ve seen women go from “I can’t” to “I CAN!” and it’s so incredible to witness. 🔑 #internationalwomensday2019',\n",
       "  0),\n",
       " ('“I am so blessed.” 🤗 -\\nThis is my new default when people ask, “How have you been?” Because for a long time I have been defaulting to, “I am so busy.”\\n-\\nAnd as the financial diet says, starting off that way is “depressing as shit”. 😂\\n-\\nThe truth is busy is a choice and when you say busy there often can be an underlying tone of complaining.\\n-\\nI do have a lot of back to back calls stacked on certain days of the week and what seems like a never ending need to calendar things in so I don’t forget, but I love 80% of my daily activities and am actively figuring out how to outsource the other 20!\\n-\\nI do feel blessed because my calendared activities of being in service to corporate professionals who trust me with their careers to spending time cooking and eating with loved ones is a true gift. 💕 📷: my mom',\n",
       "  0),\n",
       " ('Pat yourself on the back and celebrate any wins no matter how big or small. Showing up. Finishing a project. Starting something new. Whatever it may be - acknowledge it! And cheers to the weekend! ;)',\n",
       "  0),\n",
       " ('Happy Lunar New Year!! May you have a second chance at your New Years resolution if you’ve fallen behind... 🐷\\U0001f9e7🏮',\n",
       "  0),\n",
       " ('*****happy dance!! My signature program to help job seekers land dream jobs officially opened up for enrollment!! If you want to work with me for a year and get the freshest job search strategies, personal development, and professional development growth all in one... you’re not going to want to miss this. 🙃 link is in bio. Super excited to see all of the goal getters already enrolled! #cultivateyourcareer #jobsearch #jobseeker #career #careercoach',\n",
       "  1),\n",
       " ('Day 1 of the live challenge: regaining confidence in your career!\\nI had so much fun on today’s live - so grateful for an opportunity to support an amazing bunch of ambitious corporate professionals!! I shared practical tips and tools on how to boost confidence and why without it you can’t snag a dream job.\\nIt’s not too late to join the challenge. Link is in bio!',\n",
       "  1),\n",
       " ('Getting ready for the live challenge that officially kicks off tomorrow!!!! Wooohooo over $1,500 in prizes and most of all tons of live training/support for job seekers who are looking to land their dream jobs in 2019. Link in bio 👉🏼 tag someone who needs to join! 😚',\n",
       "  1),\n",
       " ('“Emily, what have you been up to lately?” 🌱 “Oh nothing much... just preparing for the awesome free 5-day live challenge to help as many job seekers land their dream jobs!” 😬 link in bio to join for oodles of career advice and resources!!',\n",
       "  1),\n",
       " ('📣📣Attention all corporate professionals who want to feel excited again on Mondays!!! 📣📣 I’m hosting a FREE 5-Day Live challenge for those who are ready to turn in a resignation letter this year. :) sign up with link in bio 💕 ... over 5 days you’re going to boost your confidence 🌱 and walk away with an irresistible personal brand! Starts January 17!! Woop woop.',\n",
       "  1),\n",
       " ('I’ve been reflecting on my 2018 and planning my 2019. 🌱 my mantra this year is going to be “TRUST and THRIVE!” Trust in myself, the universe/God and thrive to serve as many corporate professionals I can. 💕',\n",
       "  0),\n",
       " (\"I'm excited to announce that I am partnering with @netflix to tell stories on a global platform. So proud to join the ranks of digital content moguls as the first trans woman to call her own creative shots at a major content company. “As a best-selling author, producer and director, Janet Mock has demonstrated she knows how to bring her vision to thrilling, vivid life,” says Cindy Holland, Netflix VP of original content. “She’s a groundbreaker and creative force who we think will fit right in here at Netflix.” My mentor, boss and friend @mrrpmurphy told @variety, “Upon my first meeting with Janet, I knew she was a star and had the stuff moguls are made of. Being able to watch her grow, first as a writer, then a producer and now an acclaimed director who’s helmed four episodes for my productions, has been a gift. I am honored to be her mentor and friend, am grateful she’ll be joining me to write and direct on ‘Hollywood,’ and am so excited to see what she creates at Netflix. Janet is a cultural force, and the world needs her stories.”\",\n",
       "  1),\n",
       " ('I am wary about amplifying every loss, every death, every trauma enacted upon my sisters and siblings. I am aware. Very aware. We are more than what happens to us. We also make shit happen, too (from @leynabloom and @iamjarijones at Cannes and @indyamoore on ELLE and @mjrodriguez7 at the MTV Awards and @missmajor1 with House of GG and @soulfreedreams at @mpjinstitute and @tourmaliiine with @hbdmarsha and @fatfemme with Sephora and @wond3rwoman1 with NIKE and @theofficialtati with Equinox and @dominiquet.a.r.jackson on POSE) and are rarely given our flowers (or resources, or love, or care, or acknowledgement) when we are here and alive to smell them. Often times I feel we are yelling into the wind, yearning for folks fighting for black lives, women’s rights, gender justice, LGBTQ equality to hear our cries. I’m weary of reminding my siblings who live daily with the threat of violence looming that they are in danger by amplifying another fallen trans woman. We are familiar with fear and I yearn for us to become intimate with creating and living and loving. Maybe this post can inspire a few of y’all to become echoes, igniting vital change in your parts of the world. So you are aware: 10 trans women of color have been killed or reported dead in 2019, half of them in June (PRIDE MONTH), according to @outmagazine’s @raquel_willis.',\n",
       "  0),\n",
       " ('🏳️\\u200d🌈 Representing yellow & melanin in @entertainmentweekly’s #LGBTQ PRIDE issue, on newsstands now. 📷 Carter Smith 🏳️\\u200d🌈',\n",
       "  1),\n",
       " ('Directing and writing for these actors is a true gift. Fellow TV Academy members — please consider our star, the pulsing heartbeat of our show, @mjrodriguez7, for best actress in a drama, and yours truly for directing and writing Pose: Love Is the Message (s1, ep 6). #emmys #posefx #girlslikeus 📷 @r.holder718',\n",
       "  1),\n",
       " ('Captured on set directing season 2 episode 3 of #PoseFX — likely contemplating how to capture something — a feeling, a sparkle, a moment of triumph — that will move our audience to better see themselves. Being a director has sharpened my skills as a writer, deepened my capacity as a storyteller, and most important empowered me to take up more space — not just on set but in the world. Directing enables me to ensure that I am always centering myself and my communities in the stories I tell. Last year, I directed my first episode of television (season 1 episode 6 “LOVE IS THE MESSAGE”) which is being considered at this year’s Emmy Awards in directing and writing with @mrrpmurphy. As I embark on my fourth episode as a director, the @hollywoodreporter invited me to write an #Emmys Race column imparting advice to first-time directors — especially those underrepresented: women, LGBTQ and/or people of color. 🔗 in bio. #girlslikeus #director',\n",
       "  1),\n",
       " ('A JOY to celebrate my cover of @entertainmentweekly’s #LGBTQ issue at @thestonewallinn, where 50 years ago our forebears resisted policing of their bodies, sexualities and identities. What a dream! Thank you @henrygoldblatt and the entire team at EW for seeing and celebrating US! The PRIDE issue is on newsstands now! 🔗 in bio.',\n",
       "  1),\n",
       " ('Them: Hey, girl —\\nMe:', 0),\n",
       " ('When you’re blessed to work with your faves. #poseFX', 0),\n",
       " ('Custom @Prada for @poseonfx season 2 premiere. We will snatch your Tuesday nights this summer beginning June 11. #poseFX',\n",
       "  1),\n",
       " ('Proud to cover the PRIDE issue of @entertainmentweekly celebrating advancements in LGBTQ rights since that fateful night of rebellion 50 years at Stonewall in 1969. As a storyteller, trans woman of color and pop culture lover — I am in awe of my forebears for laying the groundwork for my dreams. On newsstands...peep the 🔗 in bio. 📷: Carter Smith',\n",
       "  1),\n",
       " ('The faces we make in the @poseonfx writers room every damn day. #posefx #fyc #emmys',\n",
       "  0),\n",
       " ('Thank you to each and every @televisionacad member for showing up to watch a FYC screening of my directorial debut LOVE IS THE MESSAGE (Pose season 1, episode 6). Thank you to our incomparable cast, writers and producers for making this hour of television possible. It would be a dream to be nominated as a director and a writer — the first trans woman of color to do so! — and I feel that drama series EMMY nomination for @poseonfx in my bones. Oh, and don’t forget that @mjrodriguez7 deserves all the 🏆 for carrying our show on her back — where would any of us be without Mother Blanca?! Here we stand, together, for your consideration for this year’s Emmy Awards. #posefx #emmys #fyc',\n",
       "  0),\n",
       " ('The writers room of #PoseFX (missing Ryan and Bradley!) accepting our @televisionacad Honors 🏆 for @poseonfx: “For its vivid portrayal of a unique subculture, and depiction of such topical issues as LGBTQ prejudice and acceptance, Pose is a worthy recipient.”',\n",
       "  0),\n",
       " ('My man took this. 🏝 🌊 ☀️', 0),\n",
       " ('\\U0001f9da🏾\\u200d♂️\\U0001f9da🏾\\u200d♂️\\U0001f9da🏾\\u200d♂️', 0),\n",
       " ('T U R N T. 📷 @tylersphotos #metgala', 0)]"
      ]
     },
     "execution_count": 31,
     "metadata": {},
     "output_type": "execute_result"
    }
   ],
   "source": [
    "true_pred_comments = [(comment, promo) for comment, promo in zip(true_predictions['comment'], true_predictions['promo'])]\n",
    "true_pred_comments"
   ]
  },
  {
   "cell_type": "markdown",
   "metadata": {},
   "source": [
    "Trends/Intersting:\n",
    "\n",
    "* Did not always pick up on the word ad for promos\n",
    "* Longer promos with the promotion at the end of the comment tended to be predicted as non-promotional\n",
    "* Longer promos with the promotion at the beginning tending to be predicted as promotional"
   ]
  },
  {
   "cell_type": "markdown",
   "metadata": {},
   "source": [
    "## Final Takeaways\n",
    "The model was evaluated on 248 unseen captions by unseen instagram users. The model had an accuracy of 70%. Admittedly, this is not the best accuracy, however, when we were hand labeling the data there was a lot of gray area in some of the captions. We also had some sampling bias as we used a very small proportion of instagram users.\n",
    "\n",
    "We explored the captions that were incorrectly classified and noticed some trends in the error. First, the most common type of error was to predict non-promotional when the post was promotional. One possible reason, is that there was slightly more non-promotional captions in our training data. A second related trend is that for long posts that were promotional, if the promotional material was at the end of the caption, it was harder to classify as promotional than if it was at the beginning of the caption. Third, there were some misclassified post that had the literal word \"ad\" in the caption. It is possible that this word did not show up much, if at all in the training data and therefore it did not learn that ad was promotional."
   ]
  },
  {
   "cell_type": "code",
   "execution_count": null,
   "metadata": {},
   "outputs": [],
   "source": []
  }
 ],
 "metadata": {
  "kernelspec": {
   "display_name": "learn-env",
   "language": "python",
   "name": "learn-env"
  },
  "language_info": {
   "codemirror_mode": {
    "name": "ipython",
    "version": 3
   },
   "file_extension": ".py",
   "mimetype": "text/x-python",
   "name": "python",
   "nbconvert_exporter": "python",
   "pygments_lexer": "ipython3",
   "version": "3.6.6"
  }
 },
 "nbformat": 4,
 "nbformat_minor": 2
}
